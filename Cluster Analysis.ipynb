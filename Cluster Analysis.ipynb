{
 "cells": [
  {
   "cell_type": "markdown",
   "metadata": {},
   "source": [
    "<h1 align=\"center\">Machine Learning</h1><h2 align=\"center\" style=\"margin:10px\">Assignment</h2>"
   ]
  },
  {
   "cell_type": "code",
   "execution_count": 1,
   "metadata": {},
   "outputs": [
    {
     "ename": "ImportError",
     "evalue": "DLL load failed: The specified procedure could not be found.",
     "output_type": "error",
     "traceback": [
      "\u001b[1;31m---------------------------------------------------------------------------\u001b[0m",
      "\u001b[1;31mImportError\u001b[0m                               Traceback (most recent call last)",
      "\u001b[1;32m<ipython-input-1-79c3aea7fa0a>\u001b[0m in \u001b[0;36m<module>\u001b[1;34m\u001b[0m\n\u001b[0;32m      4\u001b[0m \u001b[1;32mimport\u001b[0m \u001b[0mnumpy\u001b[0m \u001b[1;32mas\u001b[0m \u001b[0mnp\u001b[0m\u001b[1;33m\u001b[0m\u001b[1;33m\u001b[0m\u001b[0m\n\u001b[0;32m      5\u001b[0m \u001b[1;32mfrom\u001b[0m \u001b[0mscipy\u001b[0m\u001b[1;33m.\u001b[0m\u001b[0mio\u001b[0m \u001b[1;32mimport\u001b[0m \u001b[0mloadmat\u001b[0m\u001b[1;33m\u001b[0m\u001b[1;33m\u001b[0m\u001b[0m\n\u001b[1;32m----> 6\u001b[1;33m \u001b[1;32mfrom\u001b[0m \u001b[0msklearn\u001b[0m\u001b[1;33m.\u001b[0m\u001b[0mcluster\u001b[0m \u001b[1;32mimport\u001b[0m \u001b[0mKMeans\u001b[0m\u001b[1;33m,\u001b[0m \u001b[0mDBSCAN\u001b[0m\u001b[1;33m,\u001b[0m \u001b[0mAgglomerativeClustering\u001b[0m\u001b[1;33m\u001b[0m\u001b[1;33m\u001b[0m\u001b[0m\n\u001b[0m\u001b[0;32m      7\u001b[0m \u001b[1;32mfrom\u001b[0m \u001b[0mscipy\u001b[0m\u001b[1;33m.\u001b[0m\u001b[0mcluster\u001b[0m\u001b[1;33m.\u001b[0m\u001b[0mhierarchy\u001b[0m \u001b[1;32mimport\u001b[0m \u001b[0mdendrogram\u001b[0m\u001b[1;33m,\u001b[0m \u001b[0mward\u001b[0m\u001b[1;33m,\u001b[0m \u001b[0maverage\u001b[0m\u001b[1;33m,\u001b[0m \u001b[0mcomplete\u001b[0m\u001b[1;33m,\u001b[0m \u001b[0msingle\u001b[0m\u001b[1;33m,\u001b[0m \u001b[0mfcluster\u001b[0m\u001b[1;33m\u001b[0m\u001b[1;33m\u001b[0m\u001b[0m\n\u001b[0;32m      8\u001b[0m \u001b[1;32mfrom\u001b[0m \u001b[0msklearn\u001b[0m\u001b[1;33m.\u001b[0m\u001b[0mmetrics\u001b[0m \u001b[1;32mimport\u001b[0m \u001b[0madjusted_rand_score\u001b[0m\u001b[1;33m\u001b[0m\u001b[1;33m\u001b[0m\u001b[0m\n",
      "\u001b[1;32m~\\Anaconda3\\lib\\site-packages\\sklearn\\__init__.py\u001b[0m in \u001b[0;36m<module>\u001b[1;34m\u001b[0m\n\u001b[0;32m     62\u001b[0m \u001b[1;32melse\u001b[0m\u001b[1;33m:\u001b[0m\u001b[1;33m\u001b[0m\u001b[1;33m\u001b[0m\u001b[0m\n\u001b[0;32m     63\u001b[0m     \u001b[1;32mfrom\u001b[0m \u001b[1;33m.\u001b[0m \u001b[1;32mimport\u001b[0m \u001b[0m__check_build\u001b[0m\u001b[1;33m\u001b[0m\u001b[1;33m\u001b[0m\u001b[0m\n\u001b[1;32m---> 64\u001b[1;33m     \u001b[1;32mfrom\u001b[0m \u001b[1;33m.\u001b[0m\u001b[0mbase\u001b[0m \u001b[1;32mimport\u001b[0m \u001b[0mclone\u001b[0m\u001b[1;33m\u001b[0m\u001b[1;33m\u001b[0m\u001b[0m\n\u001b[0m\u001b[0;32m     65\u001b[0m     \u001b[1;32mfrom\u001b[0m \u001b[1;33m.\u001b[0m\u001b[0mutils\u001b[0m\u001b[1;33m.\u001b[0m\u001b[0m_show_versions\u001b[0m \u001b[1;32mimport\u001b[0m \u001b[0mshow_versions\u001b[0m\u001b[1;33m\u001b[0m\u001b[1;33m\u001b[0m\u001b[0m\n\u001b[0;32m     66\u001b[0m \u001b[1;33m\u001b[0m\u001b[0m\n",
      "\u001b[1;32m~\\Anaconda3\\lib\\site-packages\\sklearn\\base.py\u001b[0m in \u001b[0;36m<module>\u001b[1;34m\u001b[0m\n\u001b[0;32m     12\u001b[0m \u001b[1;32mfrom\u001b[0m \u001b[0mscipy\u001b[0m \u001b[1;32mimport\u001b[0m \u001b[0msparse\u001b[0m\u001b[1;33m\u001b[0m\u001b[1;33m\u001b[0m\u001b[0m\n\u001b[0;32m     13\u001b[0m \u001b[1;32mfrom\u001b[0m \u001b[1;33m.\u001b[0m\u001b[0mexternals\u001b[0m \u001b[1;32mimport\u001b[0m \u001b[0msix\u001b[0m\u001b[1;33m\u001b[0m\u001b[1;33m\u001b[0m\u001b[0m\n\u001b[1;32m---> 14\u001b[1;33m \u001b[1;32mfrom\u001b[0m \u001b[1;33m.\u001b[0m\u001b[0mutils\u001b[0m\u001b[1;33m.\u001b[0m\u001b[0mfixes\u001b[0m \u001b[1;32mimport\u001b[0m \u001b[0msignature\u001b[0m\u001b[1;33m\u001b[0m\u001b[1;33m\u001b[0m\u001b[0m\n\u001b[0m\u001b[0;32m     15\u001b[0m \u001b[1;32mfrom\u001b[0m \u001b[1;33m.\u001b[0m\u001b[0mutils\u001b[0m \u001b[1;32mimport\u001b[0m \u001b[0m_IS_32BIT\u001b[0m\u001b[1;33m\u001b[0m\u001b[1;33m\u001b[0m\u001b[0m\n\u001b[0;32m     16\u001b[0m \u001b[1;32mfrom\u001b[0m \u001b[1;33m.\u001b[0m \u001b[1;32mimport\u001b[0m \u001b[0m__version__\u001b[0m\u001b[1;33m\u001b[0m\u001b[1;33m\u001b[0m\u001b[0m\n",
      "\u001b[1;32m~\\Anaconda3\\lib\\site-packages\\sklearn\\utils\\__init__.py\u001b[0m in \u001b[0;36m<module>\u001b[1;34m\u001b[0m\n\u001b[0;32m     14\u001b[0m \u001b[1;32mfrom\u001b[0m \u001b[1;33m.\u001b[0m \u001b[1;32mimport\u001b[0m \u001b[0m_joblib\u001b[0m\u001b[1;33m\u001b[0m\u001b[1;33m\u001b[0m\u001b[0m\n\u001b[0;32m     15\u001b[0m \u001b[1;32mfrom\u001b[0m \u001b[1;33m.\u001b[0m\u001b[1;33m.\u001b[0m\u001b[0mexceptions\u001b[0m \u001b[1;32mimport\u001b[0m \u001b[0mDataConversionWarning\u001b[0m\u001b[1;33m\u001b[0m\u001b[1;33m\u001b[0m\u001b[0m\n\u001b[1;32m---> 16\u001b[1;33m \u001b[1;32mfrom\u001b[0m \u001b[1;33m.\u001b[0m\u001b[0mfixes\u001b[0m \u001b[1;32mimport\u001b[0m \u001b[0m_Sequence\u001b[0m \u001b[1;32mas\u001b[0m \u001b[0mSequence\u001b[0m\u001b[1;33m\u001b[0m\u001b[1;33m\u001b[0m\u001b[0m\n\u001b[0m\u001b[0;32m     17\u001b[0m \u001b[1;32mfrom\u001b[0m \u001b[1;33m.\u001b[0m\u001b[0mdeprecation\u001b[0m \u001b[1;32mimport\u001b[0m \u001b[0mdeprecated\u001b[0m\u001b[1;33m\u001b[0m\u001b[1;33m\u001b[0m\u001b[0m\n\u001b[0;32m     18\u001b[0m from .validation import (as_float_array,\n",
      "\u001b[1;32m~\\Anaconda3\\lib\\site-packages\\sklearn\\utils\\fixes.py\u001b[0m in \u001b[0;36m<module>\u001b[1;34m\u001b[0m\n\u001b[0;32m     90\u001b[0m     \u001b[1;32mfrom\u001b[0m \u001b[1;33m.\u001b[0m\u001b[0m_scipy_sparse_lsqr_backport\u001b[0m \u001b[1;32mimport\u001b[0m \u001b[0mlsqr\u001b[0m \u001b[1;32mas\u001b[0m \u001b[0msparse_lsqr\u001b[0m\u001b[1;33m\u001b[0m\u001b[1;33m\u001b[0m\u001b[0m\n\u001b[0;32m     91\u001b[0m \u001b[1;32melse\u001b[0m\u001b[1;33m:\u001b[0m\u001b[1;33m\u001b[0m\u001b[1;33m\u001b[0m\u001b[0m\n\u001b[1;32m---> 92\u001b[1;33m     \u001b[1;32mfrom\u001b[0m \u001b[0mscipy\u001b[0m\u001b[1;33m.\u001b[0m\u001b[0msparse\u001b[0m\u001b[1;33m.\u001b[0m\u001b[0mlinalg\u001b[0m \u001b[1;32mimport\u001b[0m \u001b[0mlsqr\u001b[0m \u001b[1;32mas\u001b[0m \u001b[0msparse_lsqr\u001b[0m  \u001b[1;31m# noqa\u001b[0m\u001b[1;33m\u001b[0m\u001b[1;33m\u001b[0m\u001b[0m\n\u001b[0m\u001b[0;32m     93\u001b[0m \u001b[1;33m\u001b[0m\u001b[0m\n\u001b[0;32m     94\u001b[0m \u001b[1;33m\u001b[0m\u001b[0m\n",
      "\u001b[1;32m~\\Anaconda3\\lib\\site-packages\\scipy\\sparse\\linalg\\__init__.py\u001b[0m in \u001b[0;36m<module>\u001b[1;34m\u001b[0m\n\u001b[0;32m    115\u001b[0m \u001b[1;32mfrom\u001b[0m \u001b[1;33m.\u001b[0m\u001b[0mdsolve\u001b[0m \u001b[1;32mimport\u001b[0m \u001b[1;33m*\u001b[0m\u001b[1;33m\u001b[0m\u001b[1;33m\u001b[0m\u001b[0m\n\u001b[0;32m    116\u001b[0m \u001b[1;32mfrom\u001b[0m \u001b[1;33m.\u001b[0m\u001b[0minterface\u001b[0m \u001b[1;32mimport\u001b[0m \u001b[1;33m*\u001b[0m\u001b[1;33m\u001b[0m\u001b[1;33m\u001b[0m\u001b[0m\n\u001b[1;32m--> 117\u001b[1;33m \u001b[1;32mfrom\u001b[0m \u001b[1;33m.\u001b[0m\u001b[0meigen\u001b[0m \u001b[1;32mimport\u001b[0m \u001b[1;33m*\u001b[0m\u001b[1;33m\u001b[0m\u001b[1;33m\u001b[0m\u001b[0m\n\u001b[0m\u001b[0;32m    118\u001b[0m \u001b[1;32mfrom\u001b[0m \u001b[1;33m.\u001b[0m\u001b[0mmatfuncs\u001b[0m \u001b[1;32mimport\u001b[0m \u001b[1;33m*\u001b[0m\u001b[1;33m\u001b[0m\u001b[1;33m\u001b[0m\u001b[0m\n\u001b[0;32m    119\u001b[0m \u001b[1;32mfrom\u001b[0m \u001b[1;33m.\u001b[0m\u001b[0m_onenormest\u001b[0m \u001b[1;32mimport\u001b[0m \u001b[1;33m*\u001b[0m\u001b[1;33m\u001b[0m\u001b[1;33m\u001b[0m\u001b[0m\n",
      "\u001b[1;32m~\\Anaconda3\\lib\\site-packages\\scipy\\sparse\\linalg\\eigen\\__init__.py\u001b[0m in \u001b[0;36m<module>\u001b[1;34m\u001b[0m\n\u001b[0;32m      9\u001b[0m \u001b[1;32mfrom\u001b[0m \u001b[0m__future__\u001b[0m \u001b[1;32mimport\u001b[0m \u001b[0mdivision\u001b[0m\u001b[1;33m,\u001b[0m \u001b[0mprint_function\u001b[0m\u001b[1;33m,\u001b[0m \u001b[0mabsolute_import\u001b[0m\u001b[1;33m\u001b[0m\u001b[1;33m\u001b[0m\u001b[0m\n\u001b[0;32m     10\u001b[0m \u001b[1;33m\u001b[0m\u001b[0m\n\u001b[1;32m---> 11\u001b[1;33m \u001b[1;32mfrom\u001b[0m \u001b[1;33m.\u001b[0m\u001b[0marpack\u001b[0m \u001b[1;32mimport\u001b[0m \u001b[1;33m*\u001b[0m\u001b[1;33m\u001b[0m\u001b[1;33m\u001b[0m\u001b[0m\n\u001b[0m\u001b[0;32m     12\u001b[0m \u001b[1;32mfrom\u001b[0m \u001b[1;33m.\u001b[0m\u001b[0mlobpcg\u001b[0m \u001b[1;32mimport\u001b[0m \u001b[1;33m*\u001b[0m\u001b[1;33m\u001b[0m\u001b[1;33m\u001b[0m\u001b[0m\n\u001b[0;32m     13\u001b[0m \u001b[1;33m\u001b[0m\u001b[0m\n",
      "\u001b[1;32m~\\Anaconda3\\lib\\site-packages\\scipy\\sparse\\linalg\\eigen\\arpack\\__init__.py\u001b[0m in \u001b[0;36m<module>\u001b[1;34m\u001b[0m\n\u001b[0;32m     20\u001b[0m \u001b[1;32mfrom\u001b[0m \u001b[0m__future__\u001b[0m \u001b[1;32mimport\u001b[0m \u001b[0mdivision\u001b[0m\u001b[1;33m,\u001b[0m \u001b[0mprint_function\u001b[0m\u001b[1;33m,\u001b[0m \u001b[0mabsolute_import\u001b[0m\u001b[1;33m\u001b[0m\u001b[1;33m\u001b[0m\u001b[0m\n\u001b[0;32m     21\u001b[0m \u001b[1;33m\u001b[0m\u001b[0m\n\u001b[1;32m---> 22\u001b[1;33m \u001b[1;32mfrom\u001b[0m \u001b[1;33m.\u001b[0m\u001b[0marpack\u001b[0m \u001b[1;32mimport\u001b[0m \u001b[1;33m*\u001b[0m\u001b[1;33m\u001b[0m\u001b[1;33m\u001b[0m\u001b[0m\n\u001b[0m",
      "\u001b[1;32m~\\Anaconda3\\lib\\site-packages\\scipy\\sparse\\linalg\\eigen\\arpack\\arpack.py\u001b[0m in \u001b[0;36m<module>\u001b[1;34m\u001b[0m\n\u001b[0;32m     43\u001b[0m \u001b[0m__all__\u001b[0m \u001b[1;33m=\u001b[0m \u001b[1;33m[\u001b[0m\u001b[1;34m'eigs'\u001b[0m\u001b[1;33m,\u001b[0m \u001b[1;34m'eigsh'\u001b[0m\u001b[1;33m,\u001b[0m \u001b[1;34m'svds'\u001b[0m\u001b[1;33m,\u001b[0m \u001b[1;34m'ArpackError'\u001b[0m\u001b[1;33m,\u001b[0m \u001b[1;34m'ArpackNoConvergence'\u001b[0m\u001b[1;33m]\u001b[0m\u001b[1;33m\u001b[0m\u001b[1;33m\u001b[0m\u001b[0m\n\u001b[0;32m     44\u001b[0m \u001b[1;33m\u001b[0m\u001b[0m\n\u001b[1;32m---> 45\u001b[1;33m \u001b[1;32mfrom\u001b[0m \u001b[1;33m.\u001b[0m \u001b[1;32mimport\u001b[0m \u001b[0m_arpack\u001b[0m\u001b[1;33m\u001b[0m\u001b[1;33m\u001b[0m\u001b[0m\n\u001b[0m\u001b[0;32m     46\u001b[0m \u001b[1;32mimport\u001b[0m \u001b[0mnumpy\u001b[0m \u001b[1;32mas\u001b[0m \u001b[0mnp\u001b[0m\u001b[1;33m\u001b[0m\u001b[1;33m\u001b[0m\u001b[0m\n\u001b[0;32m     47\u001b[0m \u001b[1;32mimport\u001b[0m \u001b[0mwarnings\u001b[0m\u001b[1;33m\u001b[0m\u001b[1;33m\u001b[0m\u001b[0m\n",
      "\u001b[1;31mImportError\u001b[0m: DLL load failed: The specified procedure could not be found."
     ]
    }
   ],
   "source": [
    "# Import all necessary libraries here\n",
    "%matplotlib inline\n",
    "import warnings; warnings.simplefilter('ignore')\n",
    "import numpy as np\n",
    "from scipy.io import loadmat\n",
    "from sklearn.cluster import KMeans, DBSCAN, AgglomerativeClustering\n",
    "from scipy.cluster.hierarchy import dendrogram, ward, average, complete, single, fcluster\n",
    "from sklearn.metrics import adjusted_rand_score\n",
    "import matplotlib.pyplot as plt\n",
    "from sklearn import utils\n",
    "from sklearn.decomposition import PCA\n",
    "from sklearn.preprocessing import StandardScaler"
   ]
  },
  {
   "cell_type": "markdown",
   "metadata": {},
   "source": [
    "# Exercise 3: Cluster Analysis"
   ]
  },
  {
   "cell_type": "markdown",
   "metadata": {},
   "source": [
    "For this exercise we are returning to the MNIST data, and we are exploring several clustering techniques with it."
   ]
  },
  {
   "cell_type": "markdown",
   "metadata": {},
   "source": [
    "#### a) Perform k-means clustering with k=10 on this dataset."
   ]
  },
  {
   "cell_type": "code",
   "execution_count": 2,
   "metadata": {},
   "outputs": [],
   "source": [
    "mnist = loadmat('mnist-original')\n",
    "mnist_data = mnist[\"data\"].T\n",
    "mnist_labels = mnist[\"label\"][0]"
   ]
  },
  {
   "cell_type": "markdown",
   "metadata": {},
   "source": [
    "Let's plot the label distribution in the MNIST dataset to get an idea of how many images should belong to each cluster."
   ]
  },
  {
   "cell_type": "code",
   "execution_count": 3,
   "metadata": {},
   "outputs": [],
   "source": [
    "def plot_label_distribution(digits, counts):\n",
    "    plt.figure(figsize=(10, 6))\n",
    "    plt.bar(digits, counts)\n",
    "    plt.xlabel(\"Digits\")\n",
    "    plt.ylabel(\"Number Of Occurrences\")\n",
    "    plt.title(\"MNIST Digits Distribution\")\n",
    "    plt.show()"
   ]
  },
  {
   "cell_type": "code",
   "execution_count": 4,
   "metadata": {},
   "outputs": [
    {
     "ename": "NameError",
     "evalue": "name 'plt' is not defined",
     "output_type": "error",
     "traceback": [
      "\u001b[1;31m---------------------------------------------------------------------------\u001b[0m",
      "\u001b[1;31mNameError\u001b[0m                                 Traceback (most recent call last)",
      "\u001b[1;32m<ipython-input-4-192340e79f23>\u001b[0m in \u001b[0;36m<module>\u001b[1;34m\u001b[0m\n\u001b[0;32m      1\u001b[0m \u001b[0mdigits\u001b[0m\u001b[1;33m,\u001b[0m \u001b[0mcounts\u001b[0m \u001b[1;33m=\u001b[0m \u001b[0mnp\u001b[0m\u001b[1;33m.\u001b[0m\u001b[0munique\u001b[0m\u001b[1;33m(\u001b[0m\u001b[0mmnist_labels\u001b[0m\u001b[1;33m,\u001b[0m \u001b[0mreturn_counts\u001b[0m\u001b[1;33m=\u001b[0m\u001b[1;32mTrue\u001b[0m\u001b[1;33m)\u001b[0m\u001b[1;33m\u001b[0m\u001b[1;33m\u001b[0m\u001b[0m\n\u001b[1;32m----> 2\u001b[1;33m \u001b[0mplot_label_distribution\u001b[0m\u001b[1;33m(\u001b[0m\u001b[0mdigits\u001b[0m\u001b[1;33m,\u001b[0m \u001b[0mcounts\u001b[0m\u001b[1;33m)\u001b[0m\u001b[1;33m\u001b[0m\u001b[1;33m\u001b[0m\u001b[0m\n\u001b[0m",
      "\u001b[1;32m<ipython-input-3-ca66f26d5faa>\u001b[0m in \u001b[0;36mplot_label_distribution\u001b[1;34m(digits, counts)\u001b[0m\n\u001b[0;32m      1\u001b[0m \u001b[1;32mdef\u001b[0m \u001b[0mplot_label_distribution\u001b[0m\u001b[1;33m(\u001b[0m\u001b[0mdigits\u001b[0m\u001b[1;33m,\u001b[0m \u001b[0mcounts\u001b[0m\u001b[1;33m)\u001b[0m\u001b[1;33m:\u001b[0m\u001b[1;33m\u001b[0m\u001b[1;33m\u001b[0m\u001b[0m\n\u001b[1;32m----> 2\u001b[1;33m     \u001b[0mplt\u001b[0m\u001b[1;33m.\u001b[0m\u001b[0mfigure\u001b[0m\u001b[1;33m(\u001b[0m\u001b[0mfigsize\u001b[0m\u001b[1;33m=\u001b[0m\u001b[1;33m(\u001b[0m\u001b[1;36m10\u001b[0m\u001b[1;33m,\u001b[0m \u001b[1;36m6\u001b[0m\u001b[1;33m)\u001b[0m\u001b[1;33m)\u001b[0m\u001b[1;33m\u001b[0m\u001b[1;33m\u001b[0m\u001b[0m\n\u001b[0m\u001b[0;32m      3\u001b[0m     \u001b[0mplt\u001b[0m\u001b[1;33m.\u001b[0m\u001b[0mbar\u001b[0m\u001b[1;33m(\u001b[0m\u001b[0mdigits\u001b[0m\u001b[1;33m,\u001b[0m \u001b[0mcounts\u001b[0m\u001b[1;33m)\u001b[0m\u001b[1;33m\u001b[0m\u001b[1;33m\u001b[0m\u001b[0m\n\u001b[0;32m      4\u001b[0m     \u001b[0mplt\u001b[0m\u001b[1;33m.\u001b[0m\u001b[0mxlabel\u001b[0m\u001b[1;33m(\u001b[0m\u001b[1;34m\"Digits\"\u001b[0m\u001b[1;33m)\u001b[0m\u001b[1;33m\u001b[0m\u001b[1;33m\u001b[0m\u001b[0m\n\u001b[0;32m      5\u001b[0m     \u001b[0mplt\u001b[0m\u001b[1;33m.\u001b[0m\u001b[0mylabel\u001b[0m\u001b[1;33m(\u001b[0m\u001b[1;34m\"Number Of Occurrences\"\u001b[0m\u001b[1;33m)\u001b[0m\u001b[1;33m\u001b[0m\u001b[1;33m\u001b[0m\u001b[0m\n",
      "\u001b[1;31mNameError\u001b[0m: name 'plt' is not defined"
     ]
    }
   ],
   "source": [
    "digits, counts = np.unique(mnist_labels, return_counts=True)\n",
    "plot_label_distribution(digits, counts)"
   ]
  },
  {
   "cell_type": "code",
   "execution_count": 5,
   "metadata": {},
   "outputs": [
    {
     "ename": "NameError",
     "evalue": "name 'KMeans' is not defined",
     "output_type": "error",
     "traceback": [
      "\u001b[1;31m---------------------------------------------------------------------------\u001b[0m",
      "\u001b[1;31mNameError\u001b[0m                                 Traceback (most recent call last)",
      "\u001b[1;32m<ipython-input-5-a14df6e846f7>\u001b[0m in \u001b[0;36m<module>\u001b[1;34m\u001b[0m\n\u001b[1;32m----> 1\u001b[1;33m \u001b[0mkmeans\u001b[0m \u001b[1;33m=\u001b[0m \u001b[0mKMeans\u001b[0m\u001b[1;33m(\u001b[0m\u001b[0mn_clusters\u001b[0m\u001b[1;33m=\u001b[0m\u001b[1;36m10\u001b[0m\u001b[1;33m,\u001b[0m \u001b[0mn_jobs\u001b[0m\u001b[1;33m=\u001b[0m\u001b[1;36m10\u001b[0m\u001b[1;33m,\u001b[0m \u001b[0mrandom_state\u001b[0m\u001b[1;33m=\u001b[0m\u001b[1;36m42\u001b[0m\u001b[1;33m)\u001b[0m\u001b[1;33m.\u001b[0m\u001b[0mfit\u001b[0m\u001b[1;33m(\u001b[0m\u001b[0mmnist_data\u001b[0m\u001b[1;33m)\u001b[0m\u001b[1;33m\u001b[0m\u001b[1;33m\u001b[0m\u001b[0m\n\u001b[0m",
      "\u001b[1;31mNameError\u001b[0m: name 'KMeans' is not defined"
     ]
    }
   ],
   "source": [
    "kmeans = KMeans(n_clusters=10, n_jobs=10, random_state=42).fit(mnist_data)"
   ]
  },
  {
   "cell_type": "code",
   "execution_count": 6,
   "metadata": {},
   "outputs": [
    {
     "name": "stdout",
     "output_type": "stream",
     "text": [
      "Cluster memberships: [4 4 3 ... 1 1 1]\n",
      "Unique Labels: [0 1 2 3 4 5 6 7 8 9]\n"
     ]
    }
   ],
   "source": [
    "print(\"Cluster memberships: {}\".format(kmeans.labels_))\n",
    "print(\"Unique Labels: {}\".format(np.unique(kmeans.labels_)))"
   ]
  },
  {
   "cell_type": "markdown",
   "metadata": {},
   "source": [
    "As we asked for ten clusters, the clusters are numbered from 0 to 9."
   ]
  },
  {
   "cell_type": "markdown",
   "metadata": {},
   "source": [
    "We can try to plot the label distribution obtained with K-means to see how the digit distribution differs from the first plot."
   ]
  },
  {
   "cell_type": "code",
   "execution_count": 7,
   "metadata": {
    "scrolled": false
   },
   "outputs": [
    {
     "data": {
      "image/png": "[encoded data removed]",
      "text/plain": [
       "<Figure size 720x432 with 1 Axes>"
      ]
     },
     "metadata": {
      "needs_background": "light"
     },
     "output_type": "display_data"
    }
   ],
   "source": [
    "digits, counts = np.unique(kmeans.labels_, return_counts=True)\n",
    "plot_label_distribution(digits, counts)"
   ]
  },
  {
   "cell_type": "markdown",
   "metadata": {},
   "source": [
    "As we can see the label distribution is very different from the intial label distribution plot."
   ]
  },
  {
   "cell_type": "markdown",
   "metadata": {},
   "source": [
    "#### b) Using visualization techniques analogous to what we have done in the Clustering notebook for the faces data, can you determine the 'nature' of the 10 constructed clusters?\n",
    "\n",
    "#### Do the clusters (roughly) coincide with the 10 different actual digits?"
   ]
  },
  {
   "cell_type": "code",
   "execution_count": 8,
   "metadata": {},
   "outputs": [],
   "source": [
    "def plot_cluster_centers(cluster_centers, labels):\n",
    "    fig, axes = plt.subplots(2, 5, figsize=(20,8))\n",
    "    for ax, cc, i in zip (axes.ravel(), cluster_centers, np.arange(axes.ravel().size)):\n",
    "        ax.set_title(\"idx: {}, size: {}\".format(i, len(np.where(labels == i)[0])))\n",
    "        ax.imshow(cc.reshape(28, 28))\n",
    "    plt.show()    "
   ]
  },
  {
   "cell_type": "code",
   "execution_count": 9,
   "metadata": {},
   "outputs": [
    {
     "data": {
      "image/png": "[encoded data removed]",
      "text/plain": [
       "<Figure size 1440x576 with 10 Axes>"
      ]
     },
     "metadata": {
      "needs_background": "light"
     },
     "output_type": "display_data"
    }
   ],
   "source": [
    "plot_cluster_centers(kmeans.cluster_centers_, kmeans.labels_)"
   ]
  },
  {
   "cell_type": "markdown",
   "metadata": {},
   "source": [
    "Yes, we are able to determine the nature of the 10 constructed clusters. K-Means was able to almost perfectly recover the true labels. The centroids for digit 4 and 9 are quite similar so we are not able to prefectly distinguish which one is which, and the centroid for digit 7 is not represented 100% correctly."
   ]
  },
  {
   "cell_type": "markdown",
   "metadata": {},
   "source": [
    "#### c) Perform a supervised clustering evaluation using adjusted rand index. Are the results stable, when you perform several random restarts of k-means?"
   ]
  },
  {
   "cell_type": "code",
   "execution_count": 10,
   "metadata": {},
   "outputs": [
    {
     "name": "stdout",
     "output_type": "stream",
     "text": [
      "ARI score when random_state=42: 0.365764\n"
     ]
    }
   ],
   "source": [
    "print(\"ARI score when random_state=42: {:2f}\".format(adjusted_rand_score(mnist_labels, kmeans.labels_)))"
   ]
  },
  {
   "cell_type": "markdown",
   "metadata": {},
   "source": [
    "We evaluated the performance of the K-Means algorithm on the MNIST data set, using the ARI score and we can see that the performance was not that good, only 36,6%."
   ]
  },
  {
   "cell_type": "markdown",
   "metadata": {},
   "source": [
    "We will check if the results are stable by changing the `random_state`"
   ]
  },
  {
   "cell_type": "code",
   "execution_count": 11,
   "metadata": {},
   "outputs": [
    {
     "name": "stdout",
     "output_type": "stream",
     "text": [
      "ARI score when random_state=0: 0.365239\n"
     ]
    },
    {
     "data": {
      "image/png": "[encoded data removed]",
      "text/plain": [
       "<Figure size 1440x576 with 10 Axes>"
      ]
     },
     "metadata": {
      "needs_background": "light"
     },
     "output_type": "display_data"
    }
   ],
   "source": [
    "kmeans = KMeans(n_clusters=10, n_jobs=10, random_state=0).fit(mnist_data)\n",
    "print(\"ARI score when random_state=0: {:2f}\".format(adjusted_rand_score(mnist_labels, kmeans.labels_)))\n",
    "plot_cluster_centers(kmeans.cluster_centers_, kmeans.labels_)"
   ]
  },
  {
   "cell_type": "code",
   "execution_count": 12,
   "metadata": {},
   "outputs": [
    {
     "name": "stdout",
     "output_type": "stream",
     "text": [
      "ARI score when random_state=10: 0.366661\n"
     ]
    },
    {
     "data": {
      "image/png": "[encoded data removed]",
      "text/plain": [
       "<Figure size 1440x576 with 10 Axes>"
      ]
     },
     "metadata": {
      "needs_background": "light"
     },
     "output_type": "display_data"
    }
   ],
   "source": [
    "#change random state to evaluate if the results are stable\n",
    "kmeans = KMeans(n_clusters=10, n_jobs=10, random_state=10).fit(mnist_data)\n",
    "print(\"ARI score when random_state=10: {:2f}\".format(adjusted_rand_score(mnist_labels, kmeans.labels_)))\n",
    "plot_cluster_centers(kmeans.cluster_centers_, kmeans.labels_)"
   ]
  },
  {
   "cell_type": "markdown",
   "metadata": {},
   "source": [
    "The results are stable even if the random state changes."
   ]
  },
  {
   "cell_type": "markdown",
   "metadata": {},
   "source": [
    "#### d) Now perform hierarchical clustering on the data. (in order to improve visibility in the constructed dendrograms, you can also use a much reduced dataset as constructed using sklearn.utils.resample shown below).\n",
    "#### Does the visual analysis of the dendrogram indicate a natural number of clusters?"
   ]
  },
  {
   "cell_type": "markdown",
   "metadata": {},
   "source": [
    "To improve the visibility of the dendrograms we will onky use 200 samples from the original dataset."
   ]
  },
  {
   "cell_type": "code",
   "execution_count": 13,
   "metadata": {},
   "outputs": [],
   "source": [
    "small_mnist_data, small_mnist_label = utils.resample(mnist_data, mnist_labels, n_samples=200, replace='false')"
   ]
  },
  {
   "cell_type": "code",
   "execution_count": 3,
   "metadata": {
    "scrolled": true
   },
   "outputs": [
    {
     "ename": "NameError",
     "evalue": "name 'ward' is not defined",
     "output_type": "error",
     "traceback": [
      "\u001b[1;31m---------------------------------------------------------------------------\u001b[0m",
      "\u001b[1;31mNameError\u001b[0m                                 Traceback (most recent call last)",
      "\u001b[1;32m<ipython-input-3-175b30d96b6d>\u001b[0m in \u001b[0;36m<module>\u001b[1;34m\u001b[0m\n\u001b[1;32m----> 1\u001b[1;33m \u001b[0mward_linkage_array\u001b[0m \u001b[1;33m=\u001b[0m \u001b[0mward\u001b[0m\u001b[1;33m(\u001b[0m\u001b[0msmall_mnist_data\u001b[0m\u001b[1;33m)\u001b[0m\u001b[1;33m\u001b[0m\u001b[1;33m\u001b[0m\u001b[0m\n\u001b[0m\u001b[0;32m      2\u001b[0m \u001b[1;33m\u001b[0m\u001b[0m\n\u001b[0;32m      3\u001b[0m \u001b[0mplt\u001b[0m\u001b[1;33m.\u001b[0m\u001b[0mfigure\u001b[0m\u001b[1;33m(\u001b[0m\u001b[0mfigsize\u001b[0m\u001b[1;33m=\u001b[0m\u001b[1;33m(\u001b[0m\u001b[1;36m20\u001b[0m\u001b[1;33m,\u001b[0m \u001b[1;36m9\u001b[0m\u001b[1;33m)\u001b[0m\u001b[1;33m)\u001b[0m\u001b[1;33m\u001b[0m\u001b[1;33m\u001b[0m\u001b[0m\n\u001b[0;32m      4\u001b[0m \u001b[0mdendrogram\u001b[0m\u001b[1;33m(\u001b[0m\u001b[0mward_linkage_array\u001b[0m\u001b[1;33m)\u001b[0m\u001b[1;33m\u001b[0m\u001b[1;33m\u001b[0m\u001b[0m\n\u001b[0;32m      5\u001b[0m \u001b[0mplt\u001b[0m\u001b[1;33m.\u001b[0m\u001b[0mshow\u001b[0m\u001b[1;33m(\u001b[0m\u001b[1;33m)\u001b[0m\u001b[1;33m\u001b[0m\u001b[1;33m\u001b[0m\u001b[0m\n",
      "\u001b[1;31mNameError\u001b[0m: name 'ward' is not defined"
     ]
    }
   ],
   "source": [
    "ward_linkage_array = ward(small_mnist_data)\n",
    "\n",
    "plt.figure(figsize=(20, 9))\n",
    "dendrogram(ward_linkage_array)\n",
    "plt.show()"
   ]
  },
  {
   "cell_type": "markdown",
   "metadata": {},
   "source": [
    "The dendogram doesn't indicate a natural number of clusters using ward as a distance metric."
   ]
  },
  {
   "cell_type": "markdown",
   "metadata": {},
   "source": [
    "#### e) Using different cluster distance metrics (ward,single,average, etc.), what do the clusterings look like that are produced at the level of k=10 clusters?\n",
    "#### See the Clustering notebook for the needed Python code, including the fcluster method to retrieve 'plain' clusterings from the hierarchical clustering. "
   ]
  },
  {
   "cell_type": "code",
   "execution_count": 15,
   "metadata": {},
   "outputs": [
    {
     "data": {
      "image/png": "[encoded data removed]",
      "text/plain": [
       "<Figure size 1440x648 with 1 Axes>"
      ]
     },
     "metadata": {
      "needs_background": "light"
     },
     "output_type": "display_data"
    }
   ],
   "source": [
    "average_linkage_array = average(small_mnist_data)\n",
    "\n",
    "plt.figure(figsize=(20, 9))\n",
    "dendrogram(average_linkage_array)\n",
    "plt.show()"
   ]
  },
  {
   "cell_type": "code",
   "execution_count": 16,
   "metadata": {},
   "outputs": [
    {
     "data": {
      "text/plain": [
       "(array([  1,   2,   3,   4,   5,   6,   7,   8,   9,  10,  11,  12,  13,\n",
       "         14,  15,  16,  17,  18,  19,  20,  21,  22,  23,  24,  25,  26,\n",
       "         27,  28,  29,  30,  31,  32,  33,  34,  35,  36,  37,  38,  39,\n",
       "         40,  41,  42,  43,  44,  45,  46,  47,  48,  49,  50,  51,  52,\n",
       "         53,  54,  55,  56,  57,  58,  59,  60,  61,  62,  63,  64,  65,\n",
       "         66,  67,  68,  69,  70,  71,  72,  73,  74,  75,  76,  77,  78,\n",
       "         79,  80,  81,  82,  83,  84,  85,  86,  87,  88,  89,  90,  91,\n",
       "         92,  93,  94,  95,  96,  97,  98,  99, 100, 101, 102, 103, 104,\n",
       "        105, 106, 107, 108, 109, 110, 111, 112, 113, 114, 115, 116, 117,\n",
       "        118, 119, 120, 121, 122, 123, 124, 125, 126, 127, 128, 129, 130,\n",
       "        131, 132, 133, 134, 135, 136, 137, 138, 139, 140, 141, 142, 143,\n",
       "        144, 145, 146, 147, 148, 149, 150, 151, 152, 153, 154, 155, 156,\n",
       "        157, 158, 159, 160, 161, 162, 163, 164, 165, 166, 167, 168, 169,\n",
       "        170, 171, 172, 173, 174, 175, 176, 177, 178, 179, 180, 181, 182,\n",
       "        183, 184, 185, 186, 187, 188, 189, 190, 191, 192, 193, 194, 195,\n",
       "        196, 197, 198, 199, 200], dtype=int32),\n",
       " array([1, 1, 1, 1, 1, 1, 1, 1, 1, 1, 1, 1, 1, 1, 1, 1, 1, 1, 1, 1, 1, 1,\n",
       "        1, 1, 1, 1, 1, 1, 1, 1, 1, 1, 1, 1, 1, 1, 1, 1, 1, 1, 1, 1, 1, 1,\n",
       "        1, 1, 1, 1, 1, 1, 1, 1, 1, 1, 1, 1, 1, 1, 1, 1, 1, 1, 1, 1, 1, 1,\n",
       "        1, 1, 1, 1, 1, 1, 1, 1, 1, 1, 1, 1, 1, 1, 1, 1, 1, 1, 1, 1, 1, 1,\n",
       "        1, 1, 1, 1, 1, 1, 1, 1, 1, 1, 1, 1, 1, 1, 1, 1, 1, 1, 1, 1, 1, 1,\n",
       "        1, 1, 1, 1, 1, 1, 1, 1, 1, 1, 1, 1, 1, 1, 1, 1, 1, 1, 1, 1, 1, 1,\n",
       "        1, 1, 1, 1, 1, 1, 1, 1, 1, 1, 1, 1, 1, 1, 1, 1, 1, 1, 1, 1, 1, 1,\n",
       "        1, 1, 1, 1, 1, 1, 1, 1, 1, 1, 1, 1, 1, 1, 1, 1, 1, 1, 1, 1, 1, 1,\n",
       "        1, 1, 1, 1, 1, 1, 1, 1, 1, 1, 1, 1, 1, 1, 1, 1, 1, 1, 1, 1, 1, 1,\n",
       "        1, 1], dtype=int64))"
      ]
     },
     "execution_count": 16,
     "metadata": {},
     "output_type": "execute_result"
    }
   ],
   "source": [
    "average_flat_cluster = fcluster(average_linkage_array, t=9, criterion='distance')\n",
    "cluster, count = np.unique(average_flat_cluster, return_counts=True)\n",
    "cluster, count"
   ]
  },
  {
   "cell_type": "code",
   "execution_count": 17,
   "metadata": {
    "scrolled": true
   },
   "outputs": [
    {
     "data": {
      "image/png": "[encoded data removed]",
      "text/plain": [
       "<Figure size 1440x648 with 1 Axes>"
      ]
     },
     "metadata": {
      "needs_background": "light"
     },
     "output_type": "display_data"
    }
   ],
   "source": [
    "complete_linkage_array = complete(small_mnist_data)\n",
    "\n",
    "plt.figure(figsize=(20, 9))\n",
    "dendrogram(complete_linkage_array)\n",
    "plt.show()"
   ]
  },
  {
   "cell_type": "code",
   "execution_count": 18,
   "metadata": {},
   "outputs": [
    {
     "data": {
      "text/plain": [
       "(array([  1,   2,   3,   4,   5,   6,   7,   8,   9,  10,  11,  12,  13,\n",
       "         14,  15,  16,  17,  18,  19,  20,  21,  22,  23,  24,  25,  26,\n",
       "         27,  28,  29,  30,  31,  32,  33,  34,  35,  36,  37,  38,  39,\n",
       "         40,  41,  42,  43,  44,  45,  46,  47,  48,  49,  50,  51,  52,\n",
       "         53,  54,  55,  56,  57,  58,  59,  60,  61,  62,  63,  64,  65,\n",
       "         66,  67,  68,  69,  70,  71,  72,  73,  74,  75,  76,  77,  78,\n",
       "         79,  80,  81,  82,  83,  84,  85,  86,  87,  88,  89,  90,  91,\n",
       "         92,  93,  94,  95,  96,  97,  98,  99, 100, 101, 102, 103, 104,\n",
       "        105, 106, 107, 108, 109, 110, 111, 112, 113, 114, 115, 116, 117,\n",
       "        118, 119, 120, 121, 122, 123, 124, 125, 126, 127, 128, 129, 130,\n",
       "        131, 132, 133, 134, 135, 136, 137, 138, 139, 140, 141, 142, 143,\n",
       "        144, 145, 146, 147, 148, 149, 150, 151, 152, 153, 154, 155, 156,\n",
       "        157, 158, 159, 160, 161, 162, 163, 164, 165, 166, 167, 168, 169,\n",
       "        170, 171, 172, 173, 174, 175, 176, 177, 178, 179, 180, 181, 182,\n",
       "        183, 184, 185, 186, 187, 188, 189, 190, 191, 192, 193, 194, 195,\n",
       "        196, 197, 198, 199, 200], dtype=int32),\n",
       " array([1, 1, 1, 1, 1, 1, 1, 1, 1, 1, 1, 1, 1, 1, 1, 1, 1, 1, 1, 1, 1, 1,\n",
       "        1, 1, 1, 1, 1, 1, 1, 1, 1, 1, 1, 1, 1, 1, 1, 1, 1, 1, 1, 1, 1, 1,\n",
       "        1, 1, 1, 1, 1, 1, 1, 1, 1, 1, 1, 1, 1, 1, 1, 1, 1, 1, 1, 1, 1, 1,\n",
       "        1, 1, 1, 1, 1, 1, 1, 1, 1, 1, 1, 1, 1, 1, 1, 1, 1, 1, 1, 1, 1, 1,\n",
       "        1, 1, 1, 1, 1, 1, 1, 1, 1, 1, 1, 1, 1, 1, 1, 1, 1, 1, 1, 1, 1, 1,\n",
       "        1, 1, 1, 1, 1, 1, 1, 1, 1, 1, 1, 1, 1, 1, 1, 1, 1, 1, 1, 1, 1, 1,\n",
       "        1, 1, 1, 1, 1, 1, 1, 1, 1, 1, 1, 1, 1, 1, 1, 1, 1, 1, 1, 1, 1, 1,\n",
       "        1, 1, 1, 1, 1, 1, 1, 1, 1, 1, 1, 1, 1, 1, 1, 1, 1, 1, 1, 1, 1, 1,\n",
       "        1, 1, 1, 1, 1, 1, 1, 1, 1, 1, 1, 1, 1, 1, 1, 1, 1, 1, 1, 1, 1, 1,\n",
       "        1, 1], dtype=int64))"
      ]
     },
     "execution_count": 18,
     "metadata": {},
     "output_type": "execute_result"
    }
   ],
   "source": [
    "complete_flat_cluster = fcluster(complete_linkage_array, t=9, criterion='distance')\n",
    "cluster, count = np.unique(complete_flat_cluster, return_counts=True)\n",
    "cluster, count"
   ]
  },
  {
   "cell_type": "code",
   "execution_count": 19,
   "metadata": {
    "scrolled": true
   },
   "outputs": [
    {
     "data": {
      "image/png": "[encoded data removed]",
      "text/plain": [
       "<Figure size 1440x648 with 1 Axes>"
      ]
     },
     "metadata": {
      "needs_background": "light"
     },
     "output_type": "display_data"
    }
   ],
   "source": [
    "single_linkage_array = single(small_mnist_data)\n",
    "\n",
    "plt.figure(figsize=(20,9))\n",
    "dendrogram(single_linkage_array)\n",
    "plt.show()"
   ]
  },
  {
   "cell_type": "code",
   "execution_count": 20,
   "metadata": {},
   "outputs": [
    {
     "data": {
      "text/plain": [
       "(array([  1,   2,   3,   4,   5,   6,   7,   8,   9,  10,  11,  12,  13,\n",
       "         14,  15,  16,  17,  18,  19,  20,  21,  22,  23,  24,  25,  26,\n",
       "         27,  28,  29,  30,  31,  32,  33,  34,  35,  36,  37,  38,  39,\n",
       "         40,  41,  42,  43,  44,  45,  46,  47,  48,  49,  50,  51,  52,\n",
       "         53,  54,  55,  56,  57,  58,  59,  60,  61,  62,  63,  64,  65,\n",
       "         66,  67,  68,  69,  70,  71,  72,  73,  74,  75,  76,  77,  78,\n",
       "         79,  80,  81,  82,  83,  84,  85,  86,  87,  88,  89,  90,  91,\n",
       "         92,  93,  94,  95,  96,  97,  98,  99, 100, 101, 102, 103, 104,\n",
       "        105, 106, 107, 108, 109, 110, 111, 112, 113, 114, 115, 116, 117,\n",
       "        118, 119, 120, 121, 122, 123, 124, 125, 126, 127, 128, 129, 130,\n",
       "        131, 132, 133, 134, 135, 136, 137, 138, 139, 140, 141, 142, 143,\n",
       "        144, 145, 146, 147, 148, 149, 150, 151, 152, 153, 154, 155, 156,\n",
       "        157, 158, 159, 160, 161, 162, 163, 164, 165, 166, 167, 168, 169,\n",
       "        170, 171, 172, 173, 174, 175, 176, 177, 178, 179, 180, 181, 182,\n",
       "        183, 184, 185, 186, 187, 188, 189, 190, 191, 192, 193, 194, 195,\n",
       "        196, 197, 198, 199, 200], dtype=int32),\n",
       " array([1, 1, 1, 1, 1, 1, 1, 1, 1, 1, 1, 1, 1, 1, 1, 1, 1, 1, 1, 1, 1, 1,\n",
       "        1, 1, 1, 1, 1, 1, 1, 1, 1, 1, 1, 1, 1, 1, 1, 1, 1, 1, 1, 1, 1, 1,\n",
       "        1, 1, 1, 1, 1, 1, 1, 1, 1, 1, 1, 1, 1, 1, 1, 1, 1, 1, 1, 1, 1, 1,\n",
       "        1, 1, 1, 1, 1, 1, 1, 1, 1, 1, 1, 1, 1, 1, 1, 1, 1, 1, 1, 1, 1, 1,\n",
       "        1, 1, 1, 1, 1, 1, 1, 1, 1, 1, 1, 1, 1, 1, 1, 1, 1, 1, 1, 1, 1, 1,\n",
       "        1, 1, 1, 1, 1, 1, 1, 1, 1, 1, 1, 1, 1, 1, 1, 1, 1, 1, 1, 1, 1, 1,\n",
       "        1, 1, 1, 1, 1, 1, 1, 1, 1, 1, 1, 1, 1, 1, 1, 1, 1, 1, 1, 1, 1, 1,\n",
       "        1, 1, 1, 1, 1, 1, 1, 1, 1, 1, 1, 1, 1, 1, 1, 1, 1, 1, 1, 1, 1, 1,\n",
       "        1, 1, 1, 1, 1, 1, 1, 1, 1, 1, 1, 1, 1, 1, 1, 1, 1, 1, 1, 1, 1, 1,\n",
       "        1, 1], dtype=int64))"
      ]
     },
     "execution_count": 20,
     "metadata": {},
     "output_type": "execute_result"
    }
   ],
   "source": [
    "flat_clusters = fcluster(single_linkage_array, t=9, criterion='distance')\n",
    "cluster, count = np.unique(flat_clusters, return_counts=True)\n",
    "cluster, count"
   ]
  },
  {
   "cell_type": "markdown",
   "metadata": {},
   "source": [
    "#### f) Do a DBSCAN clustering of the small dataset. Tweak the different parameters."
   ]
  },
  {
   "cell_type": "markdown",
   "metadata": {},
   "source": [
    "In order to perform a better DBSCAN analysis, we will increase the size of the `small_mnist_label` used in section (e) by creating a new reduced data from the origin dataset with 7000 data points."
   ]
  },
  {
   "cell_type": "code",
   "execution_count": 21,
   "metadata": {},
   "outputs": [],
   "source": [
    "small_mnist_data, small_mnist_labels = utils.resample(mnist_data, mnist_labels, n_samples=7000, replace='false')"
   ]
  },
  {
   "cell_type": "code",
   "execution_count": 22,
   "metadata": {
    "scrolled": true
   },
   "outputs": [
    {
     "name": "stdout",
     "output_type": "stream",
     "text": [
      "Cluster memberships:\n",
      "[-1 -1 -1 ... -1 -1 -1]\n",
      "ARI score: 0.0\n"
     ]
    }
   ],
   "source": [
    "# apply DBSCAN with default parameters\n",
    "dbscan = DBSCAN()\n",
    "clusters = dbscan.fit_predict(small_mnist_data)\n",
    "print(\"Cluster memberships:\\n{}\".format(clusters))\n",
    "print(\"ARI score: {}\".format(adjusted_rand_score(small_mnist_labels, dbscan.labels_)))"
   ]
  },
  {
   "cell_type": "markdown",
   "metadata": {},
   "source": [
    "All data points were assigned the label `-1`, which stands for noise and we get a score of 0. This is a consequence of the default parameter settings for `eps` and `min_samples`. We will try to scale the data to ensure the features have similar ranges and maybe it will be easier to find a good setting for `eps`."
   ]
  },
  {
   "cell_type": "code",
   "execution_count": 23,
   "metadata": {},
   "outputs": [],
   "source": [
    "# rescale the data to zero mean and unit variance\n",
    "scaler = StandardScaler()\n",
    "scaler.fit(small_mnist_data)\n",
    "X_scaled = scaler.transform(small_mnist_data)"
   ]
  },
  {
   "cell_type": "code",
   "execution_count": 24,
   "metadata": {},
   "outputs": [],
   "source": [
    "def calculate_best_parameters(data, labels):\n",
    "    best_eps = best_min_samples = best_ari_score = 0\n",
    "    for eps in range(6, 20):\n",
    "        for min_samples in range(3, 6):\n",
    "            print(\"eps: {} & min_samples: {}\".format(eps, min_samples))\n",
    "\n",
    "            dbscan = DBSCAN(n_jobs=15, eps=eps, min_samples=min_samples)\n",
    "            clusters = dbscan.fit_predict(data)\n",
    "            print(\"Clusters present:\\n{}\".format(np.unique(clusters)))\n",
    "            print(\"Cluster sizes: {}\".format(np.bincount(clusters + 1)))\n",
    "            \n",
    "            ari_score = adjusted_rand_score(labels, clusters)\n",
    "            print(\"ARI score: {}\\n\".format(ari_score))\n",
    "            \n",
    "            if ari_score > best_ari_score:\n",
    "                best_eps = eps\n",
    "                best_min_samples = min_samples\n",
    "                best_ari_score = ari_score\n",
    "                \n",
    "    return best_eps, best_min_samples"
   ]
  },
  {
   "cell_type": "code",
   "execution_count": 25,
   "metadata": {},
   "outputs": [
    {
     "name": "stdout",
     "output_type": "stream",
     "text": [
      "eps: 6 & min_samples: 3\n",
      "Clusters present:\n",
      "[-1  0  1  2  3  4  5  6  7  8  9 10 11 12 13 14 15 16]\n",
      "Cluster sizes: [6431    3  517    3    3    3    3    5    3    3    4    3    3    3\n",
      "    4    3    3    3]\n",
      "ARI score: 0.019842357805384837\n",
      "\n",
      "eps: 6 & min_samples: 4\n",
      "Clusters present:\n",
      "[-1  0  1  2  3  4]\n",
      "Cluster sizes: [6478  496    5   13    4    4]\n",
      "ARI score: 0.01819225410260005\n",
      "\n",
      "eps: 6 & min_samples: 5\n",
      "Clusters present:\n",
      "[-1  0  1  2  3]\n",
      "Cluster sizes: [6507  459   18   13    3]\n",
      "ARI score: 0.015411898768115261\n",
      "\n",
      "eps: 7 & min_samples: 3\n",
      "Clusters present:\n",
      "[-1  0  1  2  3  4  5  6  7  8  9 10 11 12 13 14 15 16 17 18 19 20 21]\n",
      "Cluster sizes: [6327    3  596    3    3    3    7    3    4    3   10    3    3    3\n",
      "    3    3    3    3    3    5    3    3    3]\n",
      "ARI score: 0.029111022352055302\n",
      "\n",
      "eps: 7 & min_samples: 4\n",
      "Clusters present:\n",
      "[-1  0  1  2  3  4  5]\n",
      "Cluster sizes: [6382  590    7   10    3    4    4]\n",
      "ARI score: 0.02758845279493988\n",
      "\n",
      "eps: 7 & min_samples: 5\n",
      "Clusters present:\n",
      "[-1  0  1  2]\n",
      "Cluster sizes: [6402  582   10    6]\n",
      "ARI score: 0.02607730032707699\n",
      "\n",
      "eps: 8 & min_samples: 3\n",
      "Clusters present:\n",
      "[-1  0  1  2  3  4  5  6  7  8  9 10 11 12 13 14 15 16 17 18]\n",
      "Cluster sizes: [6259  681    3    4    3    3    3    4    3    3    4    5    4    3\n",
      "    3    3    3    3    3    3]\n",
      "ARI score: 0.03784026607328491\n",
      "\n",
      "eps: 8 & min_samples: 4\n",
      "Clusters present:\n",
      "[-1  0  1  2  3  4  5]\n",
      "Cluster sizes: [6300  679    4    5    4    4    4]\n",
      "ARI score: 0.03740305983767329\n",
      "\n",
      "eps: 8 & min_samples: 5\n",
      "Clusters present:\n",
      "[-1  0  1]\n",
      "Cluster sizes: [6320  675    5]\n",
      "ARI score: 0.036341562380980276\n",
      "\n",
      "eps: 9 & min_samples: 3\n",
      "Clusters present:\n",
      "[-1  0  1  2  3  4  5  6  7  8  9 10 11 12 13 14 15 16 17 18 19 20 21]\n",
      "Cluster sizes: [6190  734    3    4    3    8    3    3    7    3    3    4    3    4\n",
      "    3    3    4    3    3    3    3    3    3]\n",
      "ARI score: 0.04359213192883411\n",
      "\n",
      "eps: 9 & min_samples: 4\n",
      "Clusters present:\n",
      "[-1  0  1  2  3  4  5]\n",
      "Cluster sizes: [6246  730    6    6    4    4    4]\n",
      "ARI score: 0.04289855039036465\n",
      "\n",
      "eps: 9 & min_samples: 5\n",
      "Clusters present:\n",
      "[-1  0  1]\n",
      "Cluster sizes: [6270  725    5]\n",
      "ARI score: 0.04227635581470043\n",
      "\n",
      "eps: 10 & min_samples: 3\n",
      "Clusters present:\n",
      "[-1  0  1  2  3  4  5  6  7  8  9 10 11 12 13 14 15 16 17 18 19 20 21 22\n",
      " 23 24 25 26 27 28 29 30 31 32 33 34 35 36 37 38 39 40 41 42 43 44 45 46\n",
      " 47 48 49 50 51 52 53 54 55 56 57 58]\n",
      "Cluster sizes: [5980  763    3    7    4    3    8   22    3    3    9    5    4    7\n",
      "    4    8    4    6    3   13    3    3    4    3    3    3    9    3\n",
      "    7    3    8    3    3    4    3    3    4    3    3    3    3    3\n",
      "    3    3    4    3    3    3    3    3    3    3    3    3    3    3\n",
      "    3    4    4    3]\n",
      "ARI score: 0.04791525708772857\n",
      "\n",
      "eps: 10 & min_samples: 4\n",
      "Clusters present:\n",
      "[-1  0  1  2  3  4  5  6  7  8  9 10 11 12 13 14 15 16 17 18 19 20 21 22]\n",
      "Cluster sizes: [6110  757    8    6    4    4    8    6   12   21    5    9    5    4\n",
      "    4    4    3    3    4    4    5    4    6    4]\n",
      "ARI score: 0.04652157745793938\n",
      "\n",
      "eps: 10 & min_samples: 5\n",
      "Clusters present:\n",
      "[-1  0  1  2  3  4  5  6  7  8  9 10]\n",
      "Cluster sizes: [6169  754    5   12   17    8    8    5    5    6    5    6]\n",
      "ARI score: 0.04554742224798349\n",
      "\n",
      "eps: 11 & min_samples: 3\n",
      "Clusters present:\n",
      "[-1  0  1  2  3  4  5  6  7  8  9 10 11 12 13 14 15 16 17 18 19 20 21 22\n",
      " 23 24 25 26 27 28 29 30 31 32 33 34 35 36 37 38 39 40 41 42 43 44 45 46\n",
      " 47 48 49 50 51 52 53 54 55 56 57 58 59 60 61 62 63 64 65 66 67 68 69 70\n",
      " 71 72 73 74 75]\n",
      "Cluster sizes: [5614    8 1000    3    7   47    3   13    6   10    9    7   22   10\n",
      "    9    8    4    4   11    3    3    3    4    4    3    3    5    3\n",
      "    5    3    4    3    3    3    3    5    9    3    3    4    3    3\n",
      "    3    3    5    3    3    3    3    6    3    3    3    3    3    3\n",
      "    5    4    3    3    3    3    3    4    3    3    3    3    5    5\n",
      "    3    3    3    3    3    3    5]\n",
      "ARI score: 0.05201716739206485\n",
      "\n",
      "eps: 11 & min_samples: 4\n",
      "Clusters present:\n",
      "[-1  0  1  2  3  4  5  6  7  8  9 10 11 12 13 14 15 16 17 18 19 20 21 22\n",
      " 23 24 25 26 27 28 29 30 31]\n",
      "Cluster sizes: [5801    8  973    7   43   11    8    3   19    6    9    4    4    5\n",
      "    8    8    4    8    4    4    6   11    4    4    6    4    4    4\n",
      "    3    4    4    5    4]\n",
      "ARI score: 0.05023878870856846\n",
      "\n",
      "eps: 11 & min_samples: 5\n",
      "Clusters present:\n",
      "[-1  0  1  2  3  4  5  6  7  8  9 10 11 12 13 14 15 16 17 18 19 20 21 22]\n",
      "Cluster sizes: [5905  890    7   11   21    6   14    7    5   23   31    8    7    9\n",
      "    5    4   12   11    5    5    2    3    4    5]\n",
      "ARI score: 0.04964323400164102\n",
      "\n",
      "eps: 12 & min_samples: 3\n",
      "Clusters present:\n",
      "[-1  0  1  2  3  4  5  6  7  8  9 10 11 12 13 14 15 16 17 18 19 20 21 22\n",
      " 23 24 25 26 27 28 29 30 31 32 33 34 35 36 37 38 39 40 41 42 43 44 45 46\n",
      " 47 48 49 50 51 52 53 54 55 56 57 58 59 60 61 62 63 64 65 66 67 68 69 70\n",
      " 71 72 73 74 75 76 77 78 79 80]\n",
      "Cluster sizes: [5094 1527    3    3    4    3   13   55    4    3    4    4    3    4\n",
      "    5    6    3    3    3    4    3    3    6    5    9    3    5    6\n",
      "    6    4   24    5    3    6    4    8    4    6    3    3    3    3\n",
      "    4    5    3    3    4    5    3    3    3    3    3    3    3    3\n",
      "    3    3    3    3    4    3    3    3    3    3    3    3    3    3\n",
      "    3    3    3    3    4    3    4    3    4    3    3    3]\n",
      "ARI score: 0.0593050071980808\n",
      "\n",
      "eps: 12 & min_samples: 4\n",
      "Clusters present:\n",
      "[-1  0  1  2  3  4  5  6  7  8  9 10 11 12 13 14 15 16 17 18 19 20 21 22\n",
      " 23 24 25 26 27 28 29]\n",
      "Cluster sizes: [5333 1462   14   10   46   12    4    5    5    4    5    6    4    7\n",
      "    4    6    6   20    4    4    4    4    3    4    4    5    3    4\n",
      "    2    2    4]\n",
      "ARI score: 0.056603442481218805\n",
      "\n",
      "eps: 12 & min_samples: 5\n",
      "Clusters present:\n",
      "[-1  0  1  2  3  4  5  6  7  8  9 10 11 12 13 14 15 16]\n",
      "Cluster sizes: [5452 1382   15   10   44   10    9    5    5    7    5    5   17   15\n",
      "    4    5    5    5]\n",
      "ARI score: 0.05524738688259719\n",
      "\n",
      "eps: 13 & min_samples: 3\n",
      "Clusters present:\n",
      "[-1  0  1  2  3  4  5  6  7  8  9 10 11 12 13 14 15 16 17 18 19 20 21 22\n",
      " 23 24 25 26 27 28 29 30 31 32 33 34 35 36 37 38 39 40 41 42 43 44 45 46\n",
      " 47 48 49 50 51 52 53 54 55 56 57 58 59 60 61 62 63 64 65 66 67 68 69 70\n",
      " 71 72]\n",
      "Cluster sizes: [4412 2135    3    3    3    3  146   14   15    8    3    3    9    3\n",
      "    3    3    7    3   11   20    4    3    4    4    3    4    4    3\n",
      "    4    3    3    5    3    7    5    3    3    3    5    3    3    4\n",
      "    7    4    3    3    3    5    3    3    3    4    3    3    3    3\n",
      "    5    3    3    3    3    3    3    3    6    3    3    3    3    3\n",
      "    3    3    4    3]\n",
      "ARI score: 0.06484207152703138\n",
      "\n",
      "eps: 13 & min_samples: 4\n",
      "Clusters present:\n",
      "[-1  0  1  2  3  4  5  6  7  8  9 10 11 12 13 14 15 16 17 18 19 20 21 22\n",
      " 23 24 25 26 27 28 29 30 31 32 33]\n",
      "Cluster sizes: [4641 2037    3  131    9   26    3    8    6   11   18    4    4    4\n",
      "   13    4    6    4    4    4    5    4    3    5    3    5    4    4\n",
      "    3    4    4    5    3    4    4]\n",
      "ARI score: 0.06269547185478544\n",
      "\n",
      "eps: 13 & min_samples: 5\n",
      "Clusters present:\n",
      "[-1  0  1  2  3  4  5  6  7  8  9 10 11 12 13 14 15 16 17 18 19 20]\n",
      "Cluster sizes: [4811 1883  108   24    5   43    6    8   32    4    8   10    5   12\n",
      "    5    5    7    4    6    4    5    5]\n",
      "ARI score: 0.06298335857974502\n",
      "\n",
      "eps: 14 & min_samples: 3\n",
      "Clusters present:\n",
      "[-1  0  1  2  3  4  5  6  7  8  9 10 11 12 13 14 15 16 17 18 19 20 21 22\n",
      " 23 24 25 26 27 28 29 30 31 32 33 34 35 36 37 38 39 40 41 42 43 44 45 46\n",
      " 47 48 49 50 51 52 53 54 55]\n",
      "Cluster sizes: [3789 2975    4    3    3   16    7   14   10    7    5    4    3    3\n",
      "    6    5    5    3    5    3    3    5    4    4    3    3    5    5\n",
      "    3    4    3    3    3    3    4    4    3    3    4    3    3    3\n",
      "    3    3    3    7    3    3    3    3    3    3    3    4    4    3\n",
      "    4]\n",
      "ARI score: 0.055748211758563086\n",
      "\n",
      "eps: 14 & min_samples: 4\n",
      "Clusters present:\n",
      "[-1  0  1  2  3  4  5  6  7  8  9 10 11 12 13 14 15 16 17 18 19 20 21 22\n",
      " 23 24 25 26]\n",
      "Cluster sizes: [3961 2909    4    4   14    4    5    7    4    3   10    5    4    5\n",
      "    3    4    3    5    4    5    4    6    4    5    4    6    4    4]\n",
      "ARI score: 0.05585727259114294\n",
      "\n",
      "eps: 14 & min_samples: 5\n",
      "Clusters present:\n",
      "[-1  0  1  2  3  4  5  6  7  8  9 10 11 12 13 14 15 16]\n",
      "Cluster sizes: [4103 2633  183   10    5    9    5    5    5    6    5    7    5    3\n",
      "    3    5    5    3]\n",
      "ARI score: 0.06535274974913981\n",
      "\n",
      "eps: 15 & min_samples: 3\n"
     ]
    },
    {
     "name": "stdout",
     "output_type": "stream",
     "text": [
      "Clusters present:\n",
      "[-1  0  1  2  3  4  5  6  7  8  9 10 11 12 13 14 15 16 17 18 19 20 21 22\n",
      " 23 24 25 26 27 28 29 30 31 32 33 34 35 36 37 38 39 40 41 42 43 44 45 46\n",
      " 47 48 49 50 51]\n",
      "Cluster sizes: [3193 3578   44    3    3    3    7   14    4    3    4    5    3    4\n",
      "    4    3    5    4    3    4    3    3    3    3    3    3    4    3\n",
      "    5    3    3    4    3    3    3    3    3    3    4    3    5    3\n",
      "    3    4    3    4    3    3    3    3    3    4    3]\n",
      "ARI score: 0.050069344130947185\n",
      "\n",
      "eps: 15 & min_samples: 4\n",
      "Clusters present:\n",
      "[-1  0  1  2  3  4  5  6  7  8  9 10 11 12 13 14 15 16 17]\n",
      "Cluster sizes: [3370 3508   39    7   13    4    4    5   12    4    4    2    4    4\n",
      "    4    5    5    4    2]\n",
      "ARI score: 0.051093716444815716\n",
      "\n",
      "eps: 15 & min_samples: 5\n",
      "Clusters present:\n",
      "[-1  0  1  2  3  4  5  6  7  8  9]\n",
      "Cluster sizes: [3475 3440   12   20    6   11   10    9    7    5    5]\n",
      "ARI score: 0.052000168277394405\n",
      "\n",
      "eps: 16 & min_samples: 3\n",
      "Clusters present:\n",
      "[-1  0  1  2  3  4  5  6  7  8  9 10 11 12 13 14 15 16 17 18 19 20 21 22\n",
      " 23 24 25 26 27 28 29 30 31 32 33 34 35 36 37 38 39]\n",
      "Cluster sizes: [2684 4100   68    3    3    3    7    3    3    4    7    4    7    3\n",
      "    7    8    4    5    5    3    3    3    3    3    3    4    4    3\n",
      "    5    3    3    3    3    3    3    3    4    3    3    3    4]\n",
      "ARI score: 0.04258615043685463\n",
      "\n",
      "eps: 16 & min_samples: 4\n",
      "Clusters present:\n",
      "[-1  0  1  2  3  4  5  6  7  8  9 10 11 12 13]\n",
      "Cluster sizes: [2825 4048   66    7    5    4    5    8    5    5    3    4    7    4\n",
      "    4]\n",
      "ARI score: 0.04366165126770306\n",
      "\n",
      "eps: 16 & min_samples: 5\n",
      "Clusters present:\n",
      "[-1  0  1  2  3  4  5  6]\n",
      "Cluster sizes: [2908 3996   65    7    5    8    5    6]\n",
      "ARI score: 0.04430310939896593\n",
      "\n",
      "eps: 17 & min_samples: 3\n",
      "Clusters present:\n",
      "[-1  0  1  2  3  4  5  6  7  8  9 10 11 12 13 14 15 16 17 18 19 20 21 22\n",
      " 23 24 25 26 27]\n",
      "Cluster sizes: [2306 4578    3    9    3    8   12    4    5    3    3    8    3    3\n",
      "    3    3    3    4    3    6    4    3    3    3    3    3    4    4\n",
      "    3]\n",
      "ARI score: 0.03159565143203295\n",
      "\n",
      "eps: 17 & min_samples: 4\n",
      "Clusters present:\n",
      "[-1  0  1  2  3  4  5  6  7  8  9 10 11]\n",
      "Cluster sizes: [2400 4541    5    5    4    4    5    8    8    3    9    4    4]\n",
      "ARI score: 0.03222365916687017\n",
      "\n",
      "eps: 17 & min_samples: 5\n",
      "Clusters present:\n",
      "[-1  0  1  2  3  4  5]\n",
      "Cluster sizes: [2480 4494    5    7    5    3    6]\n",
      "ARI score: 0.03394637557150968\n",
      "\n",
      "eps: 18 & min_samples: 3\n",
      "Clusters present:\n",
      "[-1  0  1  2  3  4  5  6  7  8  9 10 11 12 13 14 15 16 17 18 19 20 21 22\n",
      " 23 24 25 26 27 28 29 30 31 32 33 34]\n",
      "Cluster sizes: [1891 4973    4    3   19    3    3   10    3    4    3    4    3    4\n",
      "    3    3    3    3    3    5    3    4    3    3    3    3    3    3\n",
      "    3    4    4    4    4    3    3    3]\n",
      "ARI score: 0.02296784071150546\n",
      "\n",
      "eps: 18 & min_samples: 4\n",
      "Clusters present:\n",
      "[-1  0  1  2  3  4  5  6  7  8  9 10 11]\n",
      "Cluster sizes: [2023 4919    4    4    4   13    4   10    4    5    4    4    2]\n",
      "ARI score: 0.024475525102062908\n",
      "\n",
      "eps: 18 & min_samples: 5\n",
      "Clusters present:\n",
      "[-1  0  1  2  3  4]\n",
      "Cluster sizes: [2088 4876   10   10   11    5]\n",
      "ARI score: 0.02546756049264455\n",
      "\n",
      "eps: 19 & min_samples: 3\n",
      "Clusters present:\n",
      "[-1  0  1  2  3  4  5  6  7  8  9 10 11 12 13 14 15 16 17 18 19 20 21 22\n",
      " 23 24 25 26 27 28 29 30 31 32 33]\n",
      "Cluster sizes: [1571 5305    4    4    3   10    4    5    3    4    3    5    3    3\n",
      "    3    4    3    3    3    4    3    3    3    3    3    4    3    3\n",
      "    3    6    5    4    3    4    3]\n",
      "ARI score: 0.01731772894029881\n",
      "\n",
      "eps: 19 & min_samples: 4\n",
      "Clusters present:\n",
      "[-1  0  1  2  3  4  5  6  7  8  9 10 11 12]\n",
      "Cluster sizes: [1682 5262    4    3    4    4    3   10    6    5    5    4    4    4]\n",
      "ARI score: 0.01874461867330692\n",
      "\n",
      "eps: 19 & min_samples: 5\n",
      "Clusters present:\n",
      "[-1  0  1]\n",
      "Cluster sizes: [1764 5226   10]\n",
      "ARI score: 0.019799527188154312\n",
      "\n"
     ]
    }
   ],
   "source": [
    "best_eps, best_min_samples = calculate_best_parameters(X_scaled, small_mnist_labels)"
   ]
  },
  {
   "cell_type": "code",
   "execution_count": 26,
   "metadata": {},
   "outputs": [
    {
     "name": "stdout",
     "output_type": "stream",
     "text": [
      "Best eps 14 - Best min_samples: 5\n"
     ]
    }
   ],
   "source": [
    "print(\"Best eps {} - Best min_samples: {}\".format(best_eps, best_min_samples))"
   ]
  },
  {
   "cell_type": "code",
   "execution_count": 27,
   "metadata": {},
   "outputs": [
    {
     "name": "stdout",
     "output_type": "stream",
     "text": [
      "Unique labels:\n",
      "[-1  0  1  2  3  4  5  6  7  8  9 10 11 12 13 14 15 16]\n",
      "ARI score: 0.06535274974913981\n"
     ]
    }
   ],
   "source": [
    "dbscan = DBSCAN(n_jobs=15, eps=best_eps, min_samples=best_min_samples)\n",
    "clusters = dbscan.fit_predict(X_scaled)\n",
    "print(\"Unique labels:\\n{}\".format(np.unique(clusters)))\n",
    "print(\"ARI score: {}\".format(adjusted_rand_score(small_mnist_labels, dbscan.labels_)))"
   ]
  },
  {
   "cell_type": "markdown",
   "metadata": {},
   "source": [
    "Looping through possible values of `eps` and `min_samples` we can see that **increasing `eps`** to expand the neighborhood of each point and **decreasing `min_samples`** to consider smaller groups of points as clusters, reduces the number of data points labeled as noise and defines four unique clusters."
   ]
  },
  {
   "cell_type": "markdown",
   "metadata": {},
   "source": [
    "We will use PCA prior to DSBSCAN in order to check if reducing the dimensionality of the dataset can allow DBSCAN to cluster the digits a better way. But we believe that DBSCAN is not the best algorithm to work with this dataset."
   ]
  },
  {
   "cell_type": "markdown",
   "metadata": {},
   "source": [
    "We will use PCA to reduce the MNIST dataset’s dimensionality, with an explained variance ratio of 75%."
   ]
  },
  {
   "cell_type": "code",
   "execution_count": 28,
   "metadata": {},
   "outputs": [],
   "source": [
    "pca = PCA(0.75, random_state=42)\n",
    "X_pca = pca.fit_transform(X_scaled)"
   ]
  },
  {
   "cell_type": "code",
   "execution_count": 29,
   "metadata": {
    "scrolled": true
   },
   "outputs": [
    {
     "data": {
      "text/plain": [
       "95"
      ]
     },
     "execution_count": 29,
     "metadata": {},
     "output_type": "execute_result"
    }
   ],
   "source": [
    "explained_variance_ratio = pca.explained_variance_ratio_\n",
    "number_of_features = explained_variance_ratio.shape[0]\n",
    "number_of_features"
   ]
  },
  {
   "cell_type": "markdown",
   "metadata": {},
   "source": [
    "Analyzing the reduced MNIST dataset of 95 features with DBSCAN after applying PCA"
   ]
  },
  {
   "cell_type": "code",
   "execution_count": 30,
   "metadata": {},
   "outputs": [
    {
     "name": "stdout",
     "output_type": "stream",
     "text": [
      "Unique labels: [-1]\n",
      "ARI score: 0.0\n"
     ]
    }
   ],
   "source": [
    "# apply DBSCAN with default parameters\n",
    "dbscan = DBSCAN()\n",
    "clusters = dbscan.fit_predict(X_pca)\n",
    "print(\"Unique labels: {}\".format(np.unique(clusters)))\n",
    "print(\"ARI score: {}\".format(adjusted_rand_score(small_mnist_labels, clusters)))"
   ]
  },
  {
   "cell_type": "markdown",
   "metadata": {},
   "source": [
    "Again using the default parameter settings for `eps` and `min_samples` labels all data points as noise. We will try tunning this parameters finding the `best_eps` and `best_min_samples` paramaters as we did before."
   ]
  },
  {
   "cell_type": "code",
   "execution_count": 31,
   "metadata": {},
   "outputs": [
    {
     "name": "stdout",
     "output_type": "stream",
     "text": [
      "eps: 6 & min_samples: 3\n",
      "Clusters present:\n",
      "[-1  0  1  2  3  4  5  6  7  8  9 10 11 12 13 14 15 16 17 18 19 20 21 22\n",
      " 23 24 25 26 27 28 29 30 31 32 33 34 35 36 37 38 39 40 41 42 43 44 45 46\n",
      " 47 48 49 50 51 52 53 54 55]\n",
      "Cluster sizes: [6044  747    3    3    4    3    6    6    3    4    5    6    3    3\n",
      "    4    9    3    6    7    5    3    4    3    5    3    3    3    3\n",
      "    4    3    7    5    4    3    3    3    4    3    3    4    3    3\n",
      "    3    3    3    3    5    3    3    3    3    3    3    3    3    3\n",
      "    3]\n",
      "ARI score: 0.04585801070367555\n",
      "\n",
      "eps: 6 & min_samples: 4\n",
      "Clusters present:\n",
      "[-1  0  1  2  3  4  5  6  7  8  9 10 11 12 13 14 15 16 17 18 19]\n",
      "Cluster sizes: [6173  743    4    9    6    4    4    4    4    4    4    4    4    4\n",
      "    4    4    5    3    4    5    4]\n",
      "ARI score: 0.04453838891143114\n",
      "\n",
      "eps: 6 & min_samples: 5\n",
      "Clusters present:\n",
      "[-1  0  1  2  3  4]\n",
      "Cluster sizes: [6235  741    9    5    5    5]\n",
      "ARI score: 0.04386965238011961\n",
      "\n",
      "eps: 7 & min_samples: 3\n",
      "Clusters present:\n",
      "[-1  0  1  2  3  4  5  6  7  8  9 10 11 12 13 14 15 16 17 18 19 20 21 22\n",
      " 23 24 25 26 27 28 29 30 31 32 33 34 35 36 37 38 39 40 41 42 43 44 45 46\n",
      " 47 48 49 50 51 52 53 54 55 56 57 58 59 60 61 62 63 64 65 66 67 68 69 70\n",
      " 71]\n",
      "Cluster sizes: [5662    8 1034    3    4   13    3    8    5    4    3    4    6    9\n",
      "   15   10    4    3    4    5    4    3   10    4    3    4    4    6\n",
      "    3    3    4    6    3    5    3    3    3    3    6    5    4    3\n",
      "    3    3    4    6    3    3    3    3    3    4    3    3    4    3\n",
      "    3    3    3    3    3    4    3    3    3    3    3    3    3    3\n",
      "    3    4    3]\n",
      "ARI score: 0.05094917386403978\n",
      "\n",
      "eps: 7 & min_samples: 4\n",
      "Clusters present:\n",
      "[-1  0  1  2  3  4  5  6  7  8  9 10 11 12 13 14 15 16 17 18 19 20 21 22\n",
      " 23 24 25 26 27 28 29 30 31]\n",
      "Cluster sizes: [5831    8  846    7  110    7    4   15    5   14   45   10    5    4\n",
      "    6    4    6    9    4    4    3    6    5    4    4    4    4    5\n",
      "    5    4    4    4    4]\n",
      "ARI score: 0.05103662560984799\n",
      "\n",
      "eps: 7 & min_samples: 5\n",
      "Clusters present:\n",
      "[-1  0  1  2  3  4  5  6  7  8  9 10 11 12 13 14 15 16 17 18 19 20 21 22\n",
      " 23 24 25 26 27]\n",
      "Cluster sizes: [5950  791   28    6   17    5    8    7   10    5   32    6    5    7\n",
      "   32    6    7    9    8    6    5   11    9    7    6    5    5    3\n",
      "    4]\n",
      "ARI score: 0.04961200446067101\n",
      "\n",
      "eps: 8 & min_samples: 3\n",
      "Clusters present:\n",
      "[ -1   0   1   2   3   4   5   6   7   8   9  10  11  12  13  14  15  16\n",
      "  17  18  19  20  21  22  23  24  25  26  27  28  29  30  31  32  33  34\n",
      "  35  36  37  38  39  40  41  42  43  44  45  46  47  48  49  50  51  52\n",
      "  53  54  55  56  57  58  59  60  61  62  63  64  65  66  67  68  69  70\n",
      "  71  72  73  74  75  76  77  78  79  80  81  82  83  84  85  86  87  88\n",
      "  89  90  91  92  93  94  95  96  97  98  99 100 101]\n",
      "Cluster sizes: [4860 1575   94    3    3    3   48    3    8    4    4    3    7    3\n",
      "   12   15    4    5    3    4    4    4    3    7    6    9    8    9\n",
      "    3    3    3   11   11    3    5    9    4    6    3    5    3    4\n",
      "    4    6    3    4    3    5    3    3    3    5    3    3    3    4\n",
      "    5    3    3    3    3    3    3    3    5    3    3    5    4    3\n",
      "    3    4    4    3    3    3    4    3    4    3    3    4    3    3\n",
      "    3    4    3    4    5    5    3    5    3    4    4    4    3    3\n",
      "    3    3    3    3    3]\n",
      "ARI score: 0.06176514279966863\n",
      "\n",
      "eps: 8 & min_samples: 4\n",
      "Clusters present:\n",
      "[-1  0  1  2  3  4  5  6  7  8  9 10 11 12 13 14 15 16 17 18 19 20 21 22\n",
      " 23 24 25 26 27 28 29 30 31 32 33 34 35 36 37 38 39 40 41 42 43 44 45 46\n",
      " 47 48 49]\n",
      "Cluster sizes: [5151 1437   47   68   48    8    4    9    4    8    4    6    6    8\n",
      "    8    3    8    7    9    6   11    6    8    9    4    3    6    4\n",
      "    4    4    5    4    7    6    4    4    5    4    4    4    4    4\n",
      "    4    4    4    4    4    4    4    4    5]\n",
      "ARI score: 0.058781503816582176\n",
      "\n",
      "eps: 8 & min_samples: 5\n",
      "Clusters present:\n",
      "[-1  0  1  2  3  4  5  6  7  8  9 10 11 12 13 14 15 16 17 18 19 20 21 22\n",
      " 23 24 25]\n",
      "Cluster sizes: [5344 1383   14   15   45   48    9    9    7    7    5   24    7    4\n",
      "    6   11    5    8    9    3    6    5    6    5    5    5    5]\n",
      "ARI score: 0.05548044374871851\n",
      "\n",
      "eps: 9 & min_samples: 3\n",
      "Clusters present:\n",
      "[-1  0  1  2  3  4  5  6  7  8  9 10 11 12 13 14 15 16 17 18 19 20 21 22\n",
      " 23 24 25 26 27 28 29 30 31 32 33 34 35 36 37 38 39 40 41 42 43 44 45 46\n",
      " 47 48 49 50 51 52 53 54 55 56 57 58 59 60 61 62 63 64]\n",
      "Cluster sizes: [4095 2469   50  137    3    3    3   19    8    6    6    3    8    6\n",
      "    3    8    7    4    3    4    5    3    5    3    4    5    3    3\n",
      "    4    4    4    3    3    3    3    3    4    3    3    3    3    3\n",
      "    3    4    3    4    3    3    3    3    6    3    3    3    3    3\n",
      "    4    3    3    3    3    3    3    3    3    3]\n",
      "ARI score: 0.06513769447113958\n",
      "\n",
      "eps: 9 & min_samples: 4\n",
      "Clusters present:\n",
      "[-1  0  1  2  3  4  5  6  7  8  9 10 11 12 13 14 15 16 17 18 19 20 21 22\n",
      " 23 24 25 26 27 28 29 30]\n",
      "Cluster sizes: [4305 2386   42  119    8    8    6   13    4    4    4    5    2    6\n",
      "    4    5    6    8    4    4    8    4    5    4    4    4    7    4\n",
      "    3    5    4    5]\n",
      "ARI score: 0.06308124410131807\n",
      "\n",
      "eps: 9 & min_samples: 5\n",
      "Clusters present:\n",
      "[-1  0  1  2  3  4  5  6  7  8  9 10 11 12 13 14 15 16 17 18 19 20 21 22\n",
      " 23 24 25]\n",
      "Cluster sizes: [4463 2257   95    7   36   11   13    5    4    6    5    4    3   21\n",
      "    5    4    3    8    4    7    7    5    5    7    5    5    5]\n",
      "ARI score: 0.06384165649950267\n",
      "\n",
      "eps: 10 & min_samples: 3\n",
      "Clusters present:\n",
      "[-1  0  1  2  3  4  5  6  7  8  9 10 11 12 13 14 15 16 17 18 19 20 21 22\n",
      " 23 24 25 26 27 28 29 30 31 32 33 34 35 36 37 38 39 40 41 42 43 44 45 46\n",
      " 47 48 49 50 51 52 53 54 55 56 57 58]\n",
      "Cluster sizes: [3323 3390   67    3    3    3    8    7    3    3    4    6    4    9\n",
      "   10    3    3    4    6    5    3    4    3    5    3    3    6    6\n",
      "    3    4    3    3    3    3    4    3    3    3    3    5    3    3\n",
      "    4    3    3    4    4    3    3    3    3    3    3    3    3    3\n",
      "    3    3    3    3]\n",
      "ARI score: 0.05387556471815612\n",
      "\n",
      "eps: 10 & min_samples: 4\n",
      "Clusters present:\n",
      "[-1  0  1  2  3  4  5  6  7  8  9 10 11 12 13 14 15 16 17 18 19]\n",
      "Cluster sizes: [3554 3297   63    8    6    4    6    5    6    6    4    4    4    4\n",
      "    3    3    4    6    6    4    3]\n",
      "ARI score: 0.05415053940934079\n",
      "\n",
      "eps: 10 & min_samples: 5\n",
      "Clusters present:\n",
      "[-1  0  1  2  3  4  5  6  7  8]\n",
      "Cluster sizes: [3708 3194   61    5    5    6    4    5    5    7]\n",
      "ARI score: 0.05551532134671988\n",
      "\n",
      "eps: 11 & min_samples: 3\n",
      "Clusters present:\n",
      "[-1  0  1  2  3  4  5  6  7  8  9 10 11 12 13 14 15 16 17 18 19 20 21 22\n",
      " 23 24 25 26 27 28 29 30 31 32 33 34 35 36 37 38 39 40 41 42 43 44 45 46\n",
      " 47 48 49]\n",
      "Cluster sizes: [2688 4097    3    3    4    4    7    4    3    8    3    7    4   24\n",
      "    3    8    3    3    3    4    4    3    7    3    4    6    9    3\n",
      "    3    4    3    3    3    3    3    6    4    4    3    3    3    3\n",
      "    3    3    3    3    4    4    3    4    3]\n",
      "ARI score: 0.040772762938441315\n",
      "\n",
      "eps: 11 & min_samples: 4\n",
      "Clusters present:\n",
      "[-1  0  1  2  3  4  5  6  7  8  9 10 11 12 13 14 15 16 17 18 19 20 21]\n",
      "Cluster sizes: [2860 4024    8    8    4   21    8    7    7    4    4    3    4    1\n",
      "    6    4    4    4    4    4    2    3    6]\n",
      "ARI score: 0.04278942385459055\n",
      "\n",
      "eps: 11 & min_samples: 5\n",
      "Clusters present:\n",
      "[-1  0  1  2  3  4  5  6  7  8]\n",
      "Cluster sizes: [3008 3930    7    6   19    7    6    6    5    6]\n",
      "ARI score: 0.04467818582828308\n",
      "\n",
      "eps: 12 & min_samples: 3\n",
      "Clusters present:\n",
      "[-1  0  1  2  3  4  5  6  7  8  9 10 11 12 13 14 15 16 17 18 19 20 21 22\n",
      " 23 24 25 26 27 28 29 30 31 32 33 34 35 36 37 38 39 40 41 42 43 44 45 46\n",
      " 47 48 49 50 51 52 53 54]\n",
      "Cluster sizes: [2114 4669    3    9    3    4    3    3    4    8    3   14    4    3\n",
      "    3    8    3    4    3    3    3    7    4    3    3    4    3   12\n",
      "    5    4    3    3    3    3    4    3    4    3    3    3    5    3\n",
      "    3    3    3    3    3    4    3    3    3    4    3    3    3    3]\n",
      "ARI score: 0.02868867531311151\n",
      "\n",
      "eps: 12 & min_samples: 4\n",
      "Clusters present:\n",
      "[-1  0  1  2  3  4  5  6  7  8  9 10 11 12 13 14 15 16 17 18]\n",
      "Cluster sizes: [2295 4611    9    3    4    5   13    4    4    8    7    4    5    4\n",
      "    6    4    4    4    2    4]\n",
      "ARI score: 0.030572348903298494\n",
      "\n",
      "eps: 12 & min_samples: 5\n"
     ]
    },
    {
     "name": "stdout",
     "output_type": "stream",
     "text": [
      "Clusters present:\n",
      "[-1  0  1  2  3  4  5  6]\n",
      "Cluster sizes: [2416 4542    7    8   10    5    6    6]\n",
      "ARI score: 0.03234353755266566\n",
      "\n",
      "eps: 13 & min_samples: 3\n",
      "Clusters present:\n",
      "[-1  0  1  2  3  4  5  6  7  8  9 10 11 12 13 14 15 16 17 18 19 20 21 22\n",
      " 23 24 25 26 27 28 29 30 31 32 33 34 35 36 37 38 39]\n",
      "Cluster sizes: [1649 5194    3    4   23    5    3    3    3    3    4    3    3    4\n",
      "    3    3    7    4    3    3    3    3    4    3    3    4    5    4\n",
      "    3    3    3    5    3    4    3    3    5    3    3    3    3]\n",
      "ARI score: 0.017066180406483535\n",
      "\n",
      "eps: 13 & min_samples: 4\n",
      "Clusters present:\n",
      "[-1  0  1  2  3  4  5  6  7  8  9 10 11 12 13]\n",
      "Cluster sizes: [1787 5140   23    4    4    7    4    5    2    4    5    5    4    4\n",
      "    2]\n",
      "ARI score: 0.019283561174406893\n",
      "\n",
      "eps: 13 & min_samples: 5\n",
      "Clusters present:\n",
      "[-1  0  1  2  3  4  5  6  7  8  9]\n",
      "Cluster sizes: [1885 5057   19    5    6    5    5    5    4    5    4]\n",
      "ARI score: 0.02080312600398459\n",
      "\n",
      "eps: 14 & min_samples: 3\n",
      "Clusters present:\n",
      "[-1  0  1  2  3  4  5  6  7  8  9 10 11 12 13 14 15 16 17 18 19 20 21 22\n",
      " 23 24 25 26 27 28 29 30 31]\n",
      "Cluster sizes: [1284 5599    4    5    3    8    3    3    4    3    5    3    3    3\n",
      "    3    7    3    4    3    3    5    4    3    3    4    3    3    3\n",
      "    4    5    3    4    3]\n",
      "ARI score: 0.010726819030277255\n",
      "\n",
      "eps: 14 & min_samples: 4\n",
      "Clusters present:\n",
      "[-1  0  1  2  3  4  5  6  7  8]\n",
      "Cluster sizes: [1408 5554    4    5    8    3    5    4    5    4]\n",
      "ARI score: 0.012158479803576594\n",
      "\n",
      "eps: 14 & min_samples: 5\n",
      "Clusters present:\n",
      "[-1  0  1  2  3]\n",
      "Cluster sizes: [1476 5508    7    4    5]\n",
      "ARI score: 0.01332437790896855\n",
      "\n",
      "eps: 15 & min_samples: 3\n",
      "Clusters present:\n",
      "[-1  0  1  2  3  4  5  6  7  8  9 10 11 12 13 14 15 16 17 18 19 20 21]\n",
      "Cluster sizes: [1021 5904    5    5    3    3    4    3    3    3    4    3    4    3\n",
      "    4    5    3    4    4    3    3    3    3]\n",
      "ARI score: 0.006886078578152107\n",
      "\n",
      "eps: 15 & min_samples: 4\n",
      "Clusters present:\n",
      "[-1  0  1  2  3  4  5  6  7  8  9 10 11]\n",
      "Cluster sizes: [1111 5835    4    9    8    4    5    3    5    4    4    4    4]\n",
      "ARI score: 0.00823674730900597\n",
      "\n",
      "eps: 15 & min_samples: 5\n",
      "Clusters present:\n",
      "[-1  0  1  2  3  4  5]\n",
      "Cluster sizes: [1166 5803    9    8    4    4    6]\n",
      "ARI score: 0.008879888425112097\n",
      "\n",
      "eps: 16 & min_samples: 3\n",
      "Clusters present:\n",
      "[-1  0  1  2  3  4  5  6  7  8  9 10 11 12 13]\n",
      "Cluster sizes: [ 813 6140    5    5    3    3    3    3    4    3    4    3    4    4\n",
      "    3]\n",
      "ARI score: 0.004448847771274911\n",
      "\n",
      "eps: 16 & min_samples: 4\n",
      "Clusters present:\n",
      "[-1  0  1  2  3]\n",
      "Cluster sizes: [ 876 6111    5    4    4]\n",
      "ARI score: 0.004905347060228405\n",
      "\n",
      "eps: 16 & min_samples: 5\n",
      "Clusters present:\n",
      "[-1  0  1]\n",
      "Cluster sizes: [ 914 6082    4]\n",
      "ARI score: 0.005461454248192558\n",
      "\n",
      "eps: 17 & min_samples: 3\n",
      "Clusters present:\n",
      "[-1  0  1  2  3  4  5  6  7  8  9 10 11 12 13 14 15 16 17]\n",
      "Cluster sizes: [ 629 6304    3    5    4    8    4    4    4    3    3    3    4    4\n",
      "    3    3    4    5    3]\n",
      "ARI score: 0.003058292173459623\n",
      "\n",
      "eps: 17 & min_samples: 4\n",
      "Clusters present:\n",
      "[-1  0  1  2  3  4  5  6  7  8  9 10]\n",
      "Cluster sizes: [ 681 6276    5    6    4    4    4    4    4    4    4    4]\n",
      "ARI score: 0.0034157723400922726\n",
      "\n",
      "eps: 17 & min_samples: 5\n",
      "Clusters present:\n",
      "[-1  0  1]\n",
      "Cluster sizes: [ 734 6261    5]\n",
      "ARI score: 0.0036224351967913933\n",
      "\n",
      "eps: 18 & min_samples: 3\n",
      "Clusters present:\n",
      "[-1  0  1  2  3  4  5  6  7  8  9 10 11 12 13 14]\n",
      "Cluster sizes: [ 479 6465    3    5    5    3    5    4    4    3    3    3    6    4\n",
      "    5    3]\n",
      "ARI score: 0.0016557248406382447\n",
      "\n",
      "eps: 18 & min_samples: 4\n",
      "Clusters present:\n",
      "[-1  0  1  2  3  4  5  6  7  8]\n",
      "Cluster sizes: [ 528 6438    5    4    4    4    4    4    5    4]\n",
      "ARI score: 0.0018463342986097544\n",
      "\n",
      "eps: 18 & min_samples: 5\n",
      "Clusters present:\n",
      "[-1  0  1]\n",
      "Cluster sizes: [ 582 6408   10]\n",
      "ARI score: 0.002057415765062673\n",
      "\n",
      "eps: 19 & min_samples: 3\n",
      "Clusters present:\n",
      "[-1  0  1  2  3  4  5  6  7  8  9 10 11 12]\n",
      "Cluster sizes: [ 402 6551    5    4    3    3    5    3    3    3    6    5    3    4]\n",
      "ARI score: 0.0012721621050045492\n",
      "\n",
      "eps: 19 & min_samples: 4\n",
      "Clusters present:\n",
      "[-1  0  1  2  3  4  5  6  7]\n",
      "Cluster sizes: [ 442 6531    3    4    4    5    4    3    4]\n",
      "ARI score: 0.0013839382412887096\n",
      "\n",
      "eps: 19 & min_samples: 5\n",
      "Clusters present:\n",
      "[-1  0  1]\n",
      "Cluster sizes: [ 483 6514    3]\n",
      "ARI score: 0.0014694422180074169\n",
      "\n"
     ]
    }
   ],
   "source": [
    "best_eps_pca, best_min_samples_pca = calculate_best_parameters(X_pca, small_mnist_labels)"
   ]
  },
  {
   "cell_type": "code",
   "execution_count": 32,
   "metadata": {
    "scrolled": true
   },
   "outputs": [
    {
     "name": "stdout",
     "output_type": "stream",
     "text": [
      "Best eps 9 - Best min_samples: 3\n"
     ]
    }
   ],
   "source": [
    "print(\"Best eps {} - Best min_samples: {}\".format(best_eps_pca, best_min_samples_pca))"
   ]
  },
  {
   "cell_type": "markdown",
   "metadata": {},
   "source": [
    "For `eps=6` and `eps=7`, we get many noise points, one medium cluster and many smaller clusters. For `eps > 11` we get many noise points, but we get one big cluster and some smaller clusters. Starting from eps=11, we get only one large\n",
    "cluster and noise, and there is never more than one big cluster. This indicates that the digits are not very distinct, but rather similar.\n",
    "\n",
    "We can also see that when eps starts to get larger (`eps > 13`) the ARI score decreases."
   ]
  },
  {
   "cell_type": "code",
   "execution_count": 33,
   "metadata": {},
   "outputs": [
    {
     "name": "stdout",
     "output_type": "stream",
     "text": [
      "Unique labels: [-1  0  1  2  3  4  5  6  7  8  9 10 11 12 13 14 15 16 17 18 19 20 21 22\n",
      " 23 24 25 26 27 28 29 30 31 32 33 34 35 36 37 38 39 40 41 42 43 44 45 46\n",
      " 47 48 49 50 51 52 53 54 55 56 57 58 59 60 61 62 63 64]\n",
      "ARI score: 0.06513769447113958\n"
     ]
    }
   ],
   "source": [
    "# apply DBSCAN with the \"best\" eps and min_samples values\n",
    "dbscan = DBSCAN(n_jobs=10, eps=best_eps_pca, min_samples=best_min_samples_pca)\n",
    "clusters = dbscan.fit_predict(X_pca)\n",
    "print(\"Unique labels: {}\".format(np.unique(clusters)))\n",
    "print(\"ARI score: {}\".format(adjusted_rand_score(small_mnist_labels, clusters)))"
   ]
  },
  {
   "cell_type": "markdown",
   "metadata": {},
   "source": [
    "Using a much larger eps of 9 and considering a small group of points (3) as clusters, we get 64 clusters and noise points. We get a more clusters compared to the higher dimensional dataset using prior to PCA and the ARI score is sightly better. \n",
    "\n",
    "We thought that PCA could improve the performance of DBSCAN, but we cannot see a significant improvement. We will try to reduce the number of possible clusters, from 10 to 2 by selecting only two digits (0 and 1) from the original dataset and examine if the algorithm is performing badly because of the high amount of digits present in the dataset. "
   ]
  },
  {
   "cell_type": "code",
   "execution_count": 34,
   "metadata": {},
   "outputs": [],
   "source": [
    "mnist_data_two_digits = mnist_data[5200:12000]\n",
    "mnist_labels_two_digits = mnist_labels[5200:12000]\n",
    "\n",
    "scaler = StandardScaler().fit(mnist_data_two_digits)\n",
    "X_scaled_two_digits = scaler.transform(mnist_data_two_digits)\n",
    "\n",
    "pca_two_digits = PCA(0.75, random_state=42)\n",
    "X_pca_two_digits = pca_two_digits.fit_transform(X_scaled_two_digits)"
   ]
  },
  {
   "cell_type": "code",
   "execution_count": 35,
   "metadata": {
    "scrolled": true
   },
   "outputs": [
    {
     "name": "stdout",
     "output_type": "stream",
     "text": [
      "eps: 6 & min_samples: 3\n",
      "Clusters present:\n",
      "[-1  0  1  2  3  4  5  6  7  8  9]\n",
      "Cluster sizes: [1266 5494    7    5    3    5    3    4    3    7    3]\n",
      "ARI score: 0.5922520239308099\n",
      "\n",
      "eps: 6 & min_samples: 4\n",
      "Clusters present:\n",
      "[-1  0  1  2  3  4]\n",
      "Cluster sizes: [1297 5483    7    4    5    4]\n",
      "ARI score: 0.585467227066756\n",
      "\n",
      "eps: 6 & min_samples: 5\n",
      "Clusters present:\n",
      "[-1  0  1  2]\n",
      "Cluster sizes: [1313 5476    6    5]\n",
      "ARI score: 0.5814052713092818\n",
      "\n",
      "eps: 7 & min_samples: 3\n",
      "Clusters present:\n",
      "[-1  0  1  2  3  4  5  6  7  8  9 10]\n",
      "Cluster sizes: [1109    3    4    5    3 5649    3   11    3    3    4    3]\n",
      "ARI score: 0.6778235162814928\n",
      "\n",
      "eps: 7 & min_samples: 4\n",
      "Clusters present:\n",
      "[-1  0  1  2  3]\n",
      "Cluster sizes: [1146    5 5635   11    3]\n",
      "ARI score: 0.6687808868502073\n",
      "\n",
      "eps: 7 & min_samples: 5\n",
      "Clusters present:\n",
      "[-1  0  1]\n",
      "Cluster sizes: [1180 5610   10]\n",
      "ARI score: 0.6539649696759638\n",
      "\n",
      "eps: 8 & min_samples: 3\n",
      "Clusters present:\n",
      "[-1  0  1  2  3  4  5  6  7  8  9 10 11 12 13 14 15]\n",
      "Cluster sizes: [1005    3    3    4    8    5    3    3    3    3    3 5740    5    3\n",
      "    3    3    3]\n",
      "ARI score: 0.7334495159206252\n",
      "\n",
      "eps: 8 & min_samples: 4\n",
      "Clusters present:\n",
      "[-1  0  1  2  3  4  5]\n",
      "Cluster sizes: [1050    4    7    4 5727    5    3]\n",
      "ARI score: 0.7249872625898985\n",
      "\n",
      "eps: 8 & min_samples: 5\n",
      "Clusters present:\n",
      "[-1  0  1  2]\n",
      "Cluster sizes: [1077    6 5712    5]\n",
      "ARI score: 0.715374360242337\n",
      "\n",
      "eps: 9 & min_samples: 3\n",
      "Clusters present:\n",
      "[-1  0  1  2  3  4  5  6  7  8  9 10 11 12 13 14 15 16 17 18 19]\n",
      "Cluster sizes: [ 864   17   32    5   10    7    7    3    8    5    4    5    4    4\n",
      "    4    3 5806    3    3    3    3]\n",
      "ARI score: 0.7749297088291073\n",
      "\n",
      "eps: 9 & min_samples: 4\n",
      "Clusters present:\n",
      "[-1  0  1  2  3  4  5  6  7  8  9 10 11 12 13]\n",
      "Cluster sizes: [ 922   11   21    4    5    4    9    4    5    4    4    4    4 5793\n",
      "    6]\n",
      "ARI score: 0.7668183283779654\n",
      "\n",
      "eps: 9 & min_samples: 5\n",
      "Clusters present:\n",
      "[-1  0  1  2  3  4  5  6  7  8]\n",
      "Cluster sizes: [ 980    6    4   15    4    9    5 5769    4    4]\n",
      "ARI score: 0.7518266348082357\n",
      "\n",
      "eps: 10 & min_samples: 3\n",
      "Clusters present:\n",
      "[-1  0  1  2  3  4  5  6  7  8  9 10 11 12 13]\n",
      "Cluster sizes: [ 762  127   33    3    4    3    3    3 5842    4    3    3    4    3\n",
      "    3]\n",
      "ARI score: 0.7992874170954739\n",
      "\n",
      "eps: 10 & min_samples: 4\n",
      "Clusters present:\n",
      "[-1  0  1  2  3  4  5  6  7  8]\n",
      "Cluster sizes: [ 809  115    7    3    5    3   16    3 5834    5]\n",
      "ARI score: 0.7934163726154788\n",
      "\n",
      "eps: 10 & min_samples: 5\n",
      "Clusters present:\n",
      "[-1  0  1  2  3  4  5]\n",
      "Cluster sizes: [ 845   98    4    7   12    3 5831]\n",
      "ARI score: 0.7916758349480043\n",
      "\n",
      "eps: 11 & min_samples: 3\n",
      "Clusters present:\n",
      "[-1  0  1  2  3  4  5  6  7  8  9 10 11 12]\n",
      "Cluster sizes: [ 657  223    3    4    3    3    6    4    4 5879    3    3    3    5]\n",
      "ARI score: 0.824724679254007\n",
      "\n",
      "eps: 11 & min_samples: 4\n",
      "Clusters present:\n",
      "[-1  0  1  2  3  4  5  6]\n",
      "Cluster sizes: [ 697  209    3    3    4    4    4 5876]\n",
      "ARI score: 0.8222251362007226\n",
      "\n",
      "eps: 11 & min_samples: 5\n",
      "Clusters present:\n",
      "[-1  0  1  2  3]\n",
      "Cluster sizes: [ 732  194    7 5862    5]\n",
      "ARI score: 0.8129312571775718\n",
      "\n",
      "eps: 12 & min_samples: 3\n",
      "Clusters present:\n",
      "[-1  0  1  2  3  4  5  6  7  8  9 10 11 12 13 14 15 16]\n",
      "Cluster sizes: [ 568 6158   10    5    5    3    4    3    3    4   11    3    3    3\n",
      "    6    3    5    3]\n",
      "ARI score: 0.5801781909259014\n",
      "\n",
      "eps: 12 & min_samples: 4\n",
      "Clusters present:\n",
      "[-1  0  1  2  3  4  5  6  7  8]\n",
      "Cluster sizes: [ 609  265    4    7    4    4    4   10 5889    4]\n",
      "ARI score: 0.8313821780773447\n",
      "\n",
      "eps: 12 & min_samples: 5\n",
      "Clusters present:\n",
      "[-1  0  1  2]\n",
      "Cluster sizes: [ 650  259    6 5885]\n",
      "ARI score: 0.8289660087109342\n",
      "\n",
      "eps: 13 & min_samples: 3\n",
      "Clusters present:\n",
      "[-1  0  1  2  3  4  5  6  7  8  9 10 11]\n",
      "Cluster sizes: [ 491 6241   30    5    3    4    3    3    3    3    6    5    3]\n",
      "ARI score: 0.5340276295191562\n",
      "\n",
      "eps: 13 & min_samples: 4\n",
      "Clusters present:\n",
      "[-1  0  1  2  3  4  5  6]\n",
      "Cluster sizes: [ 537 6224    6    3   17    3    4    6]\n",
      "ARI score: 0.542363507858165\n",
      "\n",
      "eps: 13 & min_samples: 5\n",
      "Clusters present:\n",
      "[-1  0  1  2  3  4]\n",
      "Cluster sizes: [ 571 6206    8    5    5    5]\n",
      "ARI score: 0.5554973140788566\n",
      "\n",
      "eps: 14 & min_samples: 3\n",
      "Clusters present:\n",
      "[-1  0  1  2  3  4  5  6  7  8  9 10 11 12]\n",
      "Cluster sizes: [ 417 6333    3   12    3    5    3    3    3    3    3    3    6    3]\n",
      "ARI score: 0.4629580822228682\n",
      "\n",
      "eps: 14 & min_samples: 4\n",
      "Clusters present:\n",
      "[-1  0  1  2  3]\n",
      "Cluster sizes: [ 461 6324    5    4    6]\n",
      "ARI score: 0.4703183201614758\n",
      "\n",
      "eps: 14 & min_samples: 5\n",
      "Clusters present:\n",
      "[-1  0  1  2  3]\n",
      "Cluster sizes: [ 481 6304    5    6    4]\n",
      "ARI score: 0.4784344635596163\n",
      "\n",
      "eps: 15 & min_samples: 3\n",
      "Clusters present:\n",
      "[-1  0  1  2  3  4  5  6  7  8]\n",
      "Cluster sizes: [ 340 6427   10    3    3    3    3    3    3    5]\n",
      "ARI score: 0.3883935223205195\n",
      "\n",
      "eps: 15 & min_samples: 4\n",
      "Clusters present:\n",
      "[-1  0  1  2  3  4  5]\n",
      "Cluster sizes: [ 379 6397    4   11    3    3    3]\n",
      "ARI score: 0.4206830880629401\n",
      "\n",
      "eps: 15 & min_samples: 5\n",
      "Clusters present:\n",
      "[-1  0  1]\n",
      "Cluster sizes: [ 412 6378   10]\n",
      "ARI score: 0.44325881606523704\n",
      "\n",
      "eps: 16 & min_samples: 3\n",
      "Clusters present:\n",
      "[-1  0  1  2  3  4  5  6  7  8]\n",
      "Cluster sizes: [ 299 6470    3    3    3    4    3    6    5    4]\n",
      "ARI score: 0.3524971415713491\n",
      "\n",
      "eps: 16 & min_samples: 4\n",
      "Clusters present:\n",
      "[-1  0  1  2  3  4]\n",
      "Cluster sizes: [ 322 6459    5    4    6    4]\n",
      "ARI score: 0.36576284603223397\n",
      "\n",
      "eps: 16 & min_samples: 5\n",
      "Clusters present:\n",
      "[-1  0  1  2  3]\n",
      "Cluster sizes: [ 342 6443    4    5    6]\n",
      "ARI score: 0.38588368876308354\n",
      "\n",
      "eps: 17 & min_samples: 3\n",
      "Clusters present:\n",
      "[-1  0  1  2  3  4]\n",
      "Cluster sizes: [ 243 6537    3    8    3    6]\n",
      "ARI score: 0.2701092973156644\n",
      "\n",
      "eps: 17 & min_samples: 4\n",
      "Clusters present:\n",
      "[-1  0  1  2]\n",
      "Cluster sizes: [ 264 6525    4    7]\n",
      "ARI score: 0.2820620199617046\n",
      "\n",
      "eps: 17 & min_samples: 5\n",
      "Clusters present:\n",
      "[-1  0  1  2  3]\n",
      "Cluster sizes: [ 282 6505    4    5    4]\n",
      "ARI score: 0.30981928990661484\n",
      "\n",
      "eps: 18 & min_samples: 3\n",
      "Clusters present:\n",
      "[-1  0  1  2  3  4]\n",
      "Cluster sizes: [ 208 6568    5   10    3    6]\n",
      "ARI score: 0.227938550414803\n",
      "\n",
      "eps: 18 & min_samples: 4\n",
      "Clusters present:\n",
      "[-1  0  1  2  3  4]\n",
      "Cluster sizes: [ 217 6558    5   10    5    5]\n",
      "ARI score: 0.2396568873138974\n",
      "\n",
      "eps: 18 & min_samples: 5\n",
      "Clusters present:\n",
      "[-1  0  1  2  3]\n",
      "Cluster sizes: [ 226 6555    9    5    5]\n",
      "ARI score: 0.24428666659465822\n",
      "\n",
      "eps: 19 & min_samples: 3\n",
      "Clusters present:\n",
      "[-1  0  1  2]\n",
      "Cluster sizes: [ 195 6588   11    6]\n",
      "ARI score: 0.19768510392556118\n",
      "\n",
      "eps: 19 & min_samples: 4\n",
      "Clusters present:\n",
      "[-1  0  1  2]\n",
      "Cluster sizes: [ 198 6585   11    6]\n",
      "ARI score: 0.20257414111153818\n",
      "\n",
      "eps: 19 & min_samples: 5\n",
      "Clusters present:\n",
      "[-1  0  1  2  3  4]\n",
      "Cluster sizes: [ 201 6574   11    4    5    5]\n",
      "ARI score: 0.22041141799310635\n",
      "\n"
     ]
    }
   ],
   "source": [
    "best_eps_two_digits, best_min_samples_two_digits = calculate_best_parameters(X_pca_two_digits, mnist_labels_two_digits)"
   ]
  },
  {
   "cell_type": "code",
   "execution_count": 36,
   "metadata": {},
   "outputs": [
    {
     "name": "stdout",
     "output_type": "stream",
     "text": [
      "Best eps 12 - Best min_samples: 4\n"
     ]
    }
   ],
   "source": [
    "print(\"Best eps {} - Best min_samples: {}\".format(best_eps_two_digits, best_min_samples_two_digits))"
   ]
  },
  {
   "cell_type": "code",
   "execution_count": 37,
   "metadata": {
    "scrolled": true
   },
   "outputs": [
    {
     "name": "stdout",
     "output_type": "stream",
     "text": [
      "Unique labels: [-1  0  1  2  3  4  5  6  7  8]\n",
      "ARI score: 0.8313821780773447\n"
     ]
    }
   ],
   "source": [
    "# apply DBSCAN with the \"best\" eps and min_samples values\n",
    "dbscan_two_digits = DBSCAN(n_jobs=10, eps=best_eps_two_digits, min_samples=best_min_samples_two_digits)\n",
    "clusters_two_digits = dbscan_two_digits.fit_predict(X_pca_two_digits)\n",
    "print(\"Unique labels: {}\".format(np.unique(clusters_two_digits)))\n",
    "print(\"ARI score: {}\".format(adjusted_rand_score(mnist_labels_two_digits, clusters_two_digits)))"
   ]
  },
  {
   "cell_type": "markdown",
   "metadata": {},
   "source": [
    "We can see that the performance improved a lot, we get an ARI score of 83.13% for `eps=12` and `min_samples=4`. Therefore, we suspect that the limited performance of DBSCAN on the MNIST dataset might be linked to the fact that there are 10 different digits in the dataset."
   ]
  },
  {
   "cell_type": "markdown",
   "metadata": {},
   "source": [
    "Let’s look at how many points are noise, and how many points are inside a cluster:"
   ]
  },
  {
   "cell_type": "code",
   "execution_count": 38,
   "metadata": {
    "scrolled": false
   },
   "outputs": [
    {
     "name": "stdout",
     "output_type": "stream",
     "text": [
      "Number of points per cluster: [ 609  265    4    7    4    4    4   10 5889    4]\n"
     ]
    }
   ],
   "source": [
    "print(\"Number of points per cluster: {}\".format(np.bincount(clusters_two_digits + 1)))"
   ]
  },
  {
   "cell_type": "markdown",
   "metadata": {},
   "source": [
    "We can see that we have 2 bigger clusters and 7 small clusters and the rest of the data was labeled as noise. This concludes our analysis of the DBSCAN algorithm applied to the MNIST dataset."
   ]
  },
  {
   "cell_type": "markdown",
   "metadata": {},
   "source": [
    "#### g) Try to compare the different clustering methods on the MNIST dataset in the same way the book does on the faces dataset on pp. 195-206."
   ]
  },
  {
   "cell_type": "markdown",
   "metadata": {},
   "source": [
    "As we saw in section (f), it is not possible to create more than one big cluster using DBSCAN on the dataset with 10 digits. Let’s move on to analyse the k-means results we got in section (a).\n",
    "\n",
    "In K-means, unlike in DBSCAN, we are able to specify the number of clusters to the number of digits present in out dataset.\n",
    "\n",
    "First, we will perform K-means clustering again on the `small_mnist_data`. "
   ]
  },
  {
   "cell_type": "code",
   "execution_count": 39,
   "metadata": {
    "scrolled": true
   },
   "outputs": [
    {
     "name": "stdout",
     "output_type": "stream",
     "text": [
      "ARI score: 0.368839142017305\n"
     ]
    }
   ],
   "source": [
    "kmeans = KMeans(n_clusters=10, n_jobs=10, random_state=42).fit(small_mnist_data)\n",
    "print(\"ARI score: {}\".format(adjusted_rand_score(small_mnist_labels, kmeans.labels_)))"
   ]
  },
  {
   "cell_type": "markdown",
   "metadata": {},
   "source": [
    "We can see that the score improved with a smaller dataset. \n",
    "\n",
    "We can start by taking a look at how the different algorithms divide the data into clusters."
   ]
  },
  {
   "cell_type": "code",
   "execution_count": 40,
   "metadata": {
    "scrolled": true
   },
   "outputs": [
    {
     "name": "stdout",
     "output_type": "stream",
     "text": [
      "Cluster sizes k-means: [1024  760 1029  628  373  672  563  377  693  881]\n"
     ]
    }
   ],
   "source": [
    "print(\"Cluster sizes k-means: {}\".format(np.bincount(kmeans.labels_)))"
   ]
  },
  {
   "cell_type": "code",
   "execution_count": 41,
   "metadata": {
    "scrolled": true
   },
   "outputs": [
    {
     "name": "stdout",
     "output_type": "stream",
     "text": [
      "Cluster sizes DBSCAN: [4095 2469   50  137    3    3    3   19    8    6    6    3    8    6\n",
      "    3    8    7    4    3    4    5    3    5    3    4    5    3    3\n",
      "    4    4    4    3    3    3    3    3    4    3    3    3    3    3\n",
      "    3    4    3    4    3    3    3    3    6    3    3    3    3    3\n",
      "    4    3    3    3    3    3    3    3    3    3]\n"
     ]
    }
   ],
   "source": [
    "print(\"Cluster sizes DBSCAN: {}\".format(np.bincount(clusters + 1)))"
   ]
  },
  {
   "cell_type": "markdown",
   "metadata": {},
   "source": [
    "K-means partitions the data into relatively similarly sized clusters, unlike DBSCAN which is only able to create one big cluster and many small ones."
   ]
  },
  {
   "cell_type": "markdown",
   "metadata": {},
   "source": [
    "If we take a look at the dendrograms created in section (d), we can see that there doesn’t seem to be a very natural cutoff point. There are some branches that represent more distinct groups, but there doesn’t appear to be a particular number of clusters that is a good fit. This is not surprising, given the results of DBSCAN, which tried to cluster all points together. \n",
    "\n",
    "We can try performing Agglomerative clustering and see if we get better results."
   ]
  },
  {
   "cell_type": "code",
   "execution_count": 43,
   "metadata": {},
   "outputs": [
    {
     "name": "stdout",
     "output_type": "stream",
     "text": [
      "Unique labels: [0 1 2 3 4 5 6 7 8 9]\n",
      "ARI score: 0.5155814651609822\n"
     ]
    }
   ],
   "source": [
    "agglomerative = AgglomerativeClustering(n_clusters=10).fit(small_mnist_data)\n",
    "print(\"Unique labels: {}\".format(np.unique(agglomerative.labels_)))\n",
    "print(\"ARI score: {}\".format(adjusted_rand_score(small_mnist_labels, agglomerative.labels_)))"
   ]
  },
  {
   "cell_type": "code",
   "execution_count": 44,
   "metadata": {},
   "outputs": [
    {
     "name": "stdout",
     "output_type": "stream",
     "text": [
      "Cluster sizes Agglomerative: [ 717 1317 1138  698  564  587  642  471  326  540]\n"
     ]
    }
   ],
   "source": [
    "print(\"Cluster sizes Agglomerative: {}\".format(np.bincount(agglomerative.labels_)))"
   ]
  },
  {
   "cell_type": "markdown",
   "metadata": {},
   "source": [
    "We can see that the performance of Agglomerative clustering is better than K-means and DBSCAN. It partitions the data in relative similarly sized clusters, just as K-means and less points are classified as noise."
   ]
  }
 ],
 "metadata": {
  "kernelspec": {
   "display_name": "Python 3",
   "language": "python",
   "name": "python3"
  },
  "language_info": {
   "codemirror_mode": {
    "name": "ipython",
    "version": 3
   },
   "file_extension": ".py",
   "mimetype": "text/x-python",
   "name": "python",
   "nbconvert_exporter": "python",
   "pygments_lexer": "ipython3",
   "version": "3.7.3"
  }
 },
 "nbformat": 4,
 "nbformat_minor": 2
}
